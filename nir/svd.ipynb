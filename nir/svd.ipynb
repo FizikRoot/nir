{
 "cells": [
  {
   "cell_type": "code",
   "execution_count": null,
   "metadata": {
    "collapsed": true
   },
   "outputs": [],
   "source": [
    "import pandas as pd\n",
    "import numpy as np\n",
    "from numpy.linalg import svd\n",
    "\n",
    "def get_top_brands(matrix, columns, i):\n",
    "  matrix = np.array(matrix)\n",
    "  brand_ratings = [(score, brand) for (score, brand) in zip(matrix[i,], columns) if score > 0.1]\n",
    "  return sorted(brand_ratings, reverse=True)[:10]\n",
    "\n",
    "\n",
    "\n",
    "\n",
    "\n",
    "\n",
    "if __name__ == '__main__':\n",
    "  data = pd.read_csv('user-brands.csv')\n",
    "  data_matrix = pd.pivot_table(data, rows='id', cols='brand', aggfunc=len)\n",
    "  print data_matrix.head()\n",
    "\n",
    "  data_matrix = data_matrix.fillna(0)\n",
    "\n",
    "  user_item_matrix = np.array(data_matrix)\n",
    "\n",
    "  k = 100\n",
    "\n",
    "  U, S, V = svd(user_item_matrix)\n",
    "\n",
    "  new_user_item_matrix = np.dot(np.dot( U[:,:k], np.diag(S)[:k, :k]) , V[:k,:])\n",
    "\n",
    "\n",
    "  for userId in xrange(1000,1150):\n",
    "    print get_top_brands(new_user_item_matrix, data_matrix.columns, userId)\n",
    "    print get_top_brands(data_matrix, data_matrix.columns, userId)"
   ]
  }
 ],
 "metadata": {
  "kernelspec": {
   "display_name": "Python 2",
   "language": "python",
   "name": "python2"
  },
  "language_info": {
   "codemirror_mode": {
    "name": "ipython",
    "version": 2
   },
   "file_extension": ".py",
   "mimetype": "text/x-python",
   "name": "python",
   "nbconvert_exporter": "python",
   "pygments_lexer": "ipython2",
   "version": "2.7.11"
  }
 },
 "nbformat": 4,
 "nbformat_minor": 0
}

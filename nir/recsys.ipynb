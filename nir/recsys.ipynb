{
 "cells": [
  {
   "cell_type": "code",
   "execution_count": null,
   "metadata": {
    "collapsed": false
   },
   "outputs": [
    {
     "name": "stdout",
     "output_type": "stream",
     "text": [
      "Loading C:/Users/Fizik/Downloads/coursera/nir/nir/movielens/ratings.dat\n",
      "..........|..........|..........|..........|..........|..........|..........|..."
     ]
    }
   ],
   "source": [
    "import sys\n",
    "\n",
    "#To show some messages:\n",
    "import recsys.algorithm\n",
    "recsys.algorithm.VERBOSE = True\n",
    "\n",
    "from recsys.algorithm.factorize import SVD\n",
    "from recsys.datamodel.data import Data\n",
    "from recsys.evaluation.prediction import RMSE, MAE\n",
    "\n",
    "#Dataset\n",
    "PERCENT_TRAIN = int(80)\n",
    "data = Data()\n",
    "data.load('C:/Users/Fizik/Downloads/coursera/nir/nir/movielens/ratings.dat', sep='::', format={'col':0, 'row':1, 'value':2, 'ids':int})\n",
    "    # About format parameter:\n",
    "    #   'row': 1 -> Rows in matrix come from column 1 in ratings.dat file\n",
    "    #   'col': 0 -> Cols in matrix come from column 0 in ratings.dat file\n",
    "    #   'value': 2 -> Values (Mij) in matrix come from column 2 in ratings.dat file\n",
    "    #   'ids': int -> Ids (row and col ids) are integers (not strings)\n",
    "\n",
    "#Train & Test data\n",
    "train, test = data.split_train_test(percent=PERCENT_TRAIN)\n",
    "\n",
    "#Create SVD\n",
    "K=100\n",
    "svd = SVD()\n",
    "svd.set_data(train)\n",
    "svd.compute(k=K, min_values=5, pre_normalize=None, mean_center=True, post_normalize=True)\n",
    "\n",
    "#Evaluation using prediction-based metrics\n",
    "rmse = RMSE()\n",
    "mae = MAE()\n",
    "for rating, item_id, user_id in test.get():\n",
    "    try:\n",
    "        pred_rating = svd.predict(item_id, user_id)\n",
    "        rmse.add(rating, pred_rating)\n",
    "        mae.add(rating, pred_rating)\n",
    "    except KeyError:\n",
    "        continue\n",
    "\n",
    "print 'RMSE=%s' % rmse.compute()\n",
    "print 'MAE=%s' % mae.compute()"
   ]
  },
  {
   "cell_type": "code",
   "execution_count": null,
   "metadata": {
    "collapsed": true
   },
   "outputs": [],
   "source": []
  },
  {
   "cell_type": "code",
   "execution_count": null,
   "metadata": {
    "collapsed": true
   },
   "outputs": [],
   "source": []
  }
 ],
 "metadata": {
  "kernelspec": {
   "display_name": "Python 2",
   "language": "python",
   "name": "python2"
  },
  "language_info": {
   "codemirror_mode": {
    "name": "ipython",
    "version": 2
   },
   "file_extension": ".py",
   "mimetype": "text/x-python",
   "name": "python",
   "nbconvert_exporter": "python",
   "pygments_lexer": "ipython2",
   "version": "2.7.11"
  }
 },
 "nbformat": 4,
 "nbformat_minor": 0
}

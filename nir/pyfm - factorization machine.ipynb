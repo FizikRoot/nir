{
 "cells": [
  {
   "cell_type": "code",
   "execution_count": 2,
   "metadata": {
    "collapsed": false
   },
   "outputs": [
    {
     "name": "stdout",
     "output_type": "stream",
     "text": [
      "[[ 19.   0.   0.   0.   1.   1.   0.   0.   0.]\n",
      " [ 33.   0.   0.   1.   0.   0.   1.   0.   0.]\n",
      " [ 55.   0.   1.   0.   0.   0.   0.   1.   0.]\n",
      " [ 20.   1.   0.   0.   0.   0.   0.   0.   1.]]\n",
      "Creating validation dataset of 0.01 of training for adaptive regularization\n",
      "-- Epoch 1\n",
      "Training log loss: 0.22230\n"
     ]
    },
    {
     "data": {
      "text/plain": [
       "array([ 0.9833513])"
      ]
     },
     "execution_count": 2,
     "metadata": {},
     "output_type": "execute_result"
    }
   ],
   "source": [
    "from pyfm import pylibfm\n",
    "from sklearn.feature_extraction import DictVectorizer\n",
    "import numpy as np\n",
    "train = [\n",
    "    {\"user\": \"1\", \"item\": \"5\", \"age\": 19},\n",
    "    {\"user\": \"2\", \"item\": \"43\", \"age\": 33},\n",
    "    {\"user\": \"3\", \"item\": \"20\", \"age\": 55},\n",
    "    {\"user\": \"4\", \"item\": \"10\", \"age\": 20},\n",
    "]\n",
    "v = DictVectorizer()\n",
    "X = v.fit_transform(train)\n",
    "print(X.toarray())\n",
    "y = np.repeat(1.0,X.shape[0])\n",
    "fm = pylibfm.FM()\n",
    "fm.fit(X,y)\n",
    "fm.predict(v.transform({\"user\": \"1\", \"item\": \"10\", \"age\": 24}))"
   ]
  },
  {
   "cell_type": "code",
   "execution_count": 3,
   "metadata": {
    "collapsed": false
   },
   "outputs": [
    {
     "name": "stdout",
     "output_type": "stream",
     "text": [
      "Creating validation dataset of 0.01 of training for adaptive regularization\n",
      "-- Epoch 1\n",
      "Training MSE: 0.59525\n",
      "-- Epoch 2\n",
      "Training MSE: 0.51804\n",
      "-- Epoch 3\n",
      "Training MSE: 0.49046\n",
      "-- Epoch 4\n",
      "Training MSE: 0.47458\n",
      "-- Epoch 5\n",
      "Training MSE: 0.46416\n",
      "-- Epoch 6\n",
      "Training MSE: 0.45662\n",
      "-- Epoch 7\n",
      "Training MSE: 0.45099\n",
      "-- Epoch 8\n",
      "Training MSE: 0.44639\n",
      "-- Epoch 9\n",
      "Training MSE: 0.44264\n",
      "-- Epoch 10\n",
      "Training MSE: 0.43949\n",
      "-- Epoch 11\n",
      "Training MSE: 0.43675\n",
      "-- Epoch 12\n",
      "Training MSE: 0.43430\n",
      "-- Epoch 13\n",
      "Training MSE: 0.43223\n",
      "-- Epoch 14\n",
      "Training MSE: 0.43020\n",
      "-- Epoch 15\n",
      "Training MSE: 0.42851\n",
      "-- Epoch 16\n",
      "Training MSE: 0.42691\n",
      "-- Epoch 17\n",
      "Training MSE: 0.42531\n",
      "-- Epoch 18\n",
      "Training MSE: 0.42389\n",
      "-- Epoch 19\n",
      "Training MSE: 0.42255\n",
      "-- Epoch 20\n",
      "Training MSE: 0.42128\n",
      "-- Epoch 21\n",
      "Training MSE: 0.42003\n",
      "-- Epoch 22\n",
      "Training MSE: 0.41873\n",
      "-- Epoch 23\n",
      "Training MSE: 0.41756\n",
      "-- Epoch 24\n",
      "Training MSE: 0.41634\n",
      "-- Epoch 25\n",
      "Training MSE: 0.41509\n",
      "-- Epoch 26\n",
      "Training MSE: 0.41391\n",
      "-- Epoch 27\n",
      "Training MSE: 0.41274\n",
      "-- Epoch 28\n",
      "Training MSE: 0.41149\n",
      "-- Epoch 29\n",
      "Training MSE: 0.41032\n",
      "-- Epoch 30\n",
      "Training MSE: 0.40891\n",
      "-- Epoch 31\n",
      "Training MSE: 0.40774\n",
      "-- Epoch 32\n",
      "Training MSE: 0.40635\n",
      "-- Epoch 33\n",
      "Training MSE: 0.40495\n",
      "-- Epoch 34\n",
      "Training MSE: 0.40354\n",
      "-- Epoch 35\n",
      "Training MSE: 0.40203\n",
      "-- Epoch 36\n",
      "Training MSE: 0.40047\n",
      "-- Epoch 37\n",
      "Training MSE: 0.39889\n",
      "-- Epoch 38\n",
      "Training MSE: 0.39728\n",
      "-- Epoch 39\n",
      "Training MSE: 0.39562\n",
      "-- Epoch 40\n",
      "Training MSE: 0.39387\n",
      "-- Epoch 41\n",
      "Training MSE: 0.39216\n",
      "-- Epoch 42\n",
      "Training MSE: 0.39030\n",
      "-- Epoch 43\n",
      "Training MSE: 0.38847\n",
      "-- Epoch 44\n",
      "Training MSE: 0.38655\n",
      "-- Epoch 45\n",
      "Training MSE: 0.38461\n",
      "-- Epoch 46\n",
      "Training MSE: 0.38269\n",
      "-- Epoch 47\n",
      "Training MSE: 0.38068\n",
      "-- Epoch 48\n",
      "Training MSE: 0.37864\n",
      "-- Epoch 49\n",
      "Training MSE: 0.37657\n",
      "-- Epoch 50\n",
      "Training MSE: 0.37459\n",
      "-- Epoch 51\n",
      "Training MSE: 0.37253\n",
      "-- Epoch 52\n",
      "Training MSE: 0.37045\n",
      "-- Epoch 53\n",
      "Training MSE: 0.36845\n",
      "-- Epoch 54\n",
      "Training MSE: 0.36647\n",
      "-- Epoch 55\n",
      "Training MSE: 0.36448\n",
      "-- Epoch 56\n",
      "Training MSE: 0.36254\n",
      "-- Epoch 57\n",
      "Training MSE: 0.36067\n",
      "-- Epoch 58\n",
      "Training MSE: 0.35874\n",
      "-- Epoch 59\n",
      "Training MSE: 0.35690\n",
      "-- Epoch 60\n",
      "Training MSE: 0.35511\n",
      "-- Epoch 61\n",
      "Training MSE: 0.35333\n",
      "-- Epoch 62\n",
      "Training MSE: 0.35155\n",
      "-- Epoch 63\n",
      "Training MSE: 0.34992\n",
      "-- Epoch 64\n",
      "Training MSE: 0.34829\n",
      "-- Epoch 65\n",
      "Training MSE: 0.34675\n",
      "-- Epoch 66\n",
      "Training MSE: 0.34538\n",
      "-- Epoch 67\n",
      "Training MSE: 0.34393\n",
      "-- Epoch 68\n",
      "Training MSE: 0.34258\n",
      "-- Epoch 69\n",
      "Training MSE: 0.34129\n",
      "-- Epoch 70\n",
      "Training MSE: 0.34006\n",
      "-- Epoch 71\n",
      "Training MSE: 0.33885\n",
      "-- Epoch 72\n",
      "Training MSE: 0.33773\n",
      "-- Epoch 73\n",
      "Training MSE: 0.33671\n",
      "-- Epoch 74\n",
      "Training MSE: 0.33564\n",
      "-- Epoch 75\n",
      "Training MSE: 0.33468\n",
      "-- Epoch 76\n",
      "Training MSE: 0.33375\n",
      "-- Epoch 77\n",
      "Training MSE: 0.33292\n",
      "-- Epoch 78\n",
      "Training MSE: 0.33211\n",
      "-- Epoch 79\n",
      "Training MSE: 0.33131\n",
      "-- Epoch 80\n",
      "Training MSE: 0.33065\n",
      "-- Epoch 81\n",
      "Training MSE: 0.33002\n",
      "-- Epoch 82\n",
      "Training MSE: 0.32930\n",
      "-- Epoch 83\n",
      "Training MSE: 0.32882\n",
      "-- Epoch 84\n",
      "Training MSE: 0.32813\n",
      "-- Epoch 85\n",
      "Training MSE: 0.32764\n",
      "-- Epoch 86\n",
      "Training MSE: 0.32722\n",
      "-- Epoch 87\n",
      "Training MSE: 0.32677\n",
      "-- Epoch 88\n",
      "Training MSE: 0.32635\n",
      "-- Epoch 89\n",
      "Training MSE: 0.32591\n",
      "-- Epoch 90\n",
      "Training MSE: 0.32550\n",
      "-- Epoch 91\n",
      "Training MSE: 0.32513\n",
      "-- Epoch 92\n",
      "Training MSE: 0.32481\n",
      "-- Epoch 93\n",
      "Training MSE: 0.32451\n",
      "-- Epoch 94\n",
      "Training MSE: 0.32421\n",
      "-- Epoch 95\n",
      "Training MSE: 0.32397\n",
      "-- Epoch 96\n",
      "Training MSE: 0.32363\n",
      "-- Epoch 97\n",
      "Training MSE: 0.32341\n",
      "-- Epoch 98\n",
      "Training MSE: 0.32319\n",
      "-- Epoch 99\n",
      "Training MSE: 0.32293\n",
      "-- Epoch 100\n",
      "Training MSE: 0.32268\n"
     ]
    }
   ],
   "source": [
    "import numpy as np\n",
    "from sklearn.feature_extraction import DictVectorizer\n",
    "from pyfm import pylibfm\n",
    "\n",
    "# Read in data\n",
    "def loadData(filename,path=\"C:/Users/Fizik/Downloads/coursera/nir/nir/movielens/ml-100k/\"):\n",
    "    data = []\n",
    "    y = []\n",
    "    users=set()\n",
    "    items=set()\n",
    "    with open(path+filename) as f:\n",
    "        for line in f:\n",
    "            (user,movieid,rating,ts)=line.split('\\t')\n",
    "            data.append({ \"user_id\": str(user), \"movie_id\": str(movieid)})\n",
    "            y.append(float(rating))\n",
    "            users.add(user)\n",
    "            items.add(movieid)\n",
    "\n",
    "    return (data, np.array(y), users, items)\n",
    "\n",
    "(train_data, y_train, train_users, train_items) = loadData(\"ua.base\")\n",
    "(test_data, y_test, test_users, test_items) = loadData(\"ua.test\")\n",
    "v = DictVectorizer()\n",
    "X_train = v.fit_transform(train_data)\n",
    "X_test = v.transform(test_data)\n",
    "\n",
    "# Build and train a Factorization Machine\n",
    "fm = pylibfm.FM(num_factors=10, num_iter=100, verbose=True, task=\"regression\", initial_learning_rate=0.001, learning_rate_schedule=\"optimal\")\n",
    "\n",
    "fm.fit(X_train,y_train)"
   ]
  },
  {
   "cell_type": "code",
   "execution_count": 4,
   "metadata": {
    "collapsed": false
   },
   "outputs": [
    {
     "name": "stdout",
     "output_type": "stream",
     "text": [
      "FM MSE: 0.8873\n"
     ]
    }
   ],
   "source": [
    "preds = fm.predict(X_test)\n",
    "from sklearn.metrics import mean_squared_error\n",
    "print(\"FM MSE: %.4f\" % mean_squared_error(y_test,preds))"
   ]
  },
  {
   "cell_type": "code",
   "execution_count": 6,
   "metadata": {
    "collapsed": false
   },
   "outputs": [
    {
     "data": {
      "text/plain": [
       "array([ 3.96085926,  3.52204038,  4.10466788, ...,  3.15600816,\n",
       "        2.82198418,  3.44547167])"
      ]
     },
     "execution_count": 6,
     "metadata": {},
     "output_type": "execute_result"
    }
   ],
   "source": [
    "preds"
   ]
  },
  {
   "cell_type": "markdown",
   "metadata": {},
   "source": [
    "classcification"
   ]
  },
  {
   "cell_type": "code",
   "execution_count": 8,
   "metadata": {
    "collapsed": false
   },
   "outputs": [
    {
     "name": "stdout",
     "output_type": "stream",
     "text": [
      "Creating validation dataset of 0.01 of training for adaptive regularization\n",
      "-- Epoch 1\n",
      "Training log loss: 1.94249\n",
      "-- Epoch 2\n",
      "Training log loss: 1.64100\n",
      "-- Epoch 3\n",
      "Training log loss: 1.39210\n",
      "-- Epoch 4\n",
      "Training log loss: 1.18709\n",
      "-- Epoch 5\n",
      "Training log loss: 1.01753\n",
      "-- Epoch 6\n",
      "Training log loss: 0.87650\n",
      "-- Epoch 7\n",
      "Training log loss: 0.75867\n",
      "-- Epoch 8\n",
      "Training log loss: 0.65960\n",
      "-- Epoch 9\n",
      "Training log loss: 0.57569\n",
      "-- Epoch 10\n",
      "Training log loss: 0.50416\n"
     ]
    }
   ],
   "source": [
    "import numpy as np\n",
    "from sklearn.feature_extraction import DictVectorizer\n",
    "from sklearn.cross_validation import train_test_split\n",
    "from pyfm import pylibfm\n",
    "\n",
    "from sklearn.datasets import make_classification\n",
    "\n",
    "X, y = make_classification(n_samples=1000,n_features=100, n_clusters_per_class=1)\n",
    "data = [ {v: k for k, v in dict(zip(i, range(len(i)))).items()}  for i in X]\n",
    "\n",
    "X_train, X_test, y_train, y_test = train_test_split(data, y, test_size=0.1, random_state=42)\n",
    "\n",
    "v = DictVectorizer()\n",
    "X_train = v.fit_transform(X_train)\n",
    "X_test = v.transform(X_test)\n",
    "\n",
    "fm = pylibfm.FM(num_factors=50, num_iter=10, verbose=True, task=\"classification\", initial_learning_rate=0.0001, learning_rate_schedule=\"optimal\")\n",
    "\n",
    "fm.fit(X_train,y_train)"
   ]
  },
  {
   "cell_type": "code",
   "execution_count": 9,
   "metadata": {
    "collapsed": false
   },
   "outputs": [
    {
     "name": "stdout",
     "output_type": "stream",
     "text": [
      "Validation log loss: 1.3999\n"
     ]
    }
   ],
   "source": [
    "from sklearn.metrics import log_loss\n",
    "print \"Validation log loss: %.4f\" % log_loss(y_test,fm.predict(X_test))"
   ]
  },
  {
   "cell_type": "code",
   "execution_count": null,
   "metadata": {
    "collapsed": true
   },
   "outputs": [],
   "source": []
  }
 ],
 "metadata": {
  "kernelspec": {
   "display_name": "Python 2",
   "language": "python",
   "name": "python2"
  },
  "language_info": {
   "codemirror_mode": {
    "name": "ipython",
    "version": 2
   },
   "file_extension": ".py",
   "mimetype": "text/x-python",
   "name": "python",
   "nbconvert_exporter": "python",
   "pygments_lexer": "ipython2",
   "version": "2.7.11"
  }
 },
 "nbformat": 4,
 "nbformat_minor": 0
}

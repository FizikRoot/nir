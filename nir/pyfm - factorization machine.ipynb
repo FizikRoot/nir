{
 "cells": [
  {
   "cell_type": "code",
   "execution_count": 2,
   "metadata": {
    "collapsed": false
   },
   "outputs": [
    {
     "name": "stdout",
     "output_type": "stream",
     "text": [
      "[[ 19.   0.   0.   0.   1.   1.   0.   0.   0.]\n",
      " [ 33.   0.   0.   1.   0.   0.   1.   0.   0.]\n",
      " [ 55.   0.   1.   0.   0.   0.   0.   1.   0.]\n",
      " [ 20.   1.   0.   0.   0.   0.   0.   0.   1.]]\n",
      "Creating validation dataset of 0.01 of training for adaptive regularization\n",
      "-- Epoch 1\n",
      "Training log loss: 0.22230\n"
     ]
    },
    {
     "data": {
      "text/plain": [
       "array([ 0.9833513])"
      ]
     },
     "execution_count": 2,
     "metadata": {},
     "output_type": "execute_result"
    }
   ],
   "source": [
    "from pyfm import pylibfm\n",
    "from sklearn.feature_extraction import DictVectorizer\n",
    "import numpy as np\n",
    "train = [\n",
    "    {\"user\": \"1\", \"item\": \"5\", \"age\": 19},\n",
    "    {\"user\": \"2\", \"item\": \"43\", \"age\": 33},\n",
    "    {\"user\": \"3\", \"item\": \"20\", \"age\": 55},\n",
    "    {\"user\": \"4\", \"item\": \"10\", \"age\": 20},\n",
    "]\n",
    "v = DictVectorizer()\n",
    "X = v.fit_transform(train)\n",
    "print(X.toarray())\n",
    "y = np.repeat(1.0,X.shape[0])\n",
    "fm = pylibfm.FM()\n",
    "fm.fit(X,y)\n",
    "fm.predict(v.transform({\"user\": \"1\", \"item\": \"10\", \"age\": 24}))"
   ]
  },
  {
   "cell_type": "code",
   "execution_count": 9,
   "metadata": {
    "collapsed": false
   },
   "outputs": [
    {
     "name": "stdout",
     "output_type": "stream",
     "text": [
      "Creating validation dataset of 0.01 of training for adaptive regularization\n",
      "-- Epoch 1\n",
      "Training MSE: 0.59457\n",
      "-- Epoch 2\n",
      "Training MSE: 0.51814\n",
      "-- Epoch 3\n",
      "Training MSE: 0.49046\n",
      "-- Epoch 4\n",
      "Training MSE: 0.47470\n",
      "-- Epoch 5\n",
      "Training MSE: 0.46422\n",
      "-- Epoch 6\n",
      "Training MSE: 0.45679\n",
      "-- Epoch 7\n",
      "Training MSE: 0.45113\n",
      "-- Epoch 8\n",
      "Training MSE: 0.44655\n",
      "-- Epoch 9\n",
      "Training MSE: 0.44270\n",
      "-- Epoch 10\n",
      "Training MSE: 0.43960\n",
      "-- Epoch 11\n",
      "Training MSE: 0.43688\n",
      "-- Epoch 12\n",
      "Training MSE: 0.43448\n",
      "-- Epoch 13\n",
      "Training MSE: 0.43231\n",
      "-- Epoch 14\n",
      "Training MSE: 0.43041\n",
      "-- Epoch 15\n",
      "Training MSE: 0.42867\n",
      "-- Epoch 16\n",
      "Training MSE: 0.42702\n",
      "-- Epoch 17\n",
      "Training MSE: 0.42547\n",
      "-- Epoch 18\n",
      "Training MSE: 0.42407\n",
      "-- Epoch 19\n",
      "Training MSE: 0.42266\n",
      "-- Epoch 20\n",
      "Training MSE: 0.42139\n",
      "-- Epoch 21\n",
      "Training MSE: 0.42022\n",
      "-- Epoch 22\n",
      "Training MSE: 0.41898\n",
      "-- Epoch 23\n",
      "Training MSE: 0.41783\n",
      "-- Epoch 24\n",
      "Training MSE: 0.41664\n",
      "-- Epoch 25\n",
      "Training MSE: 0.41550\n",
      "-- Epoch 26\n",
      "Training MSE: 0.41425\n",
      "-- Epoch 27\n",
      "Training MSE: 0.41310\n",
      "-- Epoch 28\n",
      "Training MSE: 0.41203\n",
      "-- Epoch 29\n",
      "Training MSE: 0.41077\n",
      "-- Epoch 30\n",
      "Training MSE: 0.40951\n",
      "-- Epoch 31\n",
      "Training MSE: 0.40826\n",
      "-- Epoch 32\n",
      "Training MSE: 0.40707\n",
      "-- Epoch 33\n",
      "Training MSE: 0.40574\n",
      "-- Epoch 34\n",
      "Training MSE: 0.40436\n",
      "-- Epoch 35\n",
      "Training MSE: 0.40297\n",
      "-- Epoch 36\n",
      "Training MSE: 0.40151\n",
      "-- Epoch 37\n",
      "Training MSE: 0.39987\n",
      "-- Epoch 38\n",
      "Training MSE: 0.39846\n",
      "-- Epoch 39\n",
      "Training MSE: 0.39673\n",
      "-- Epoch 40\n",
      "Training MSE: 0.39511\n",
      "-- Epoch 41\n",
      "Training MSE: 0.39336\n",
      "-- Epoch 42\n",
      "Training MSE: 0.39163\n",
      "-- Epoch 43\n",
      "Training MSE: 0.38982\n",
      "-- Epoch 44\n",
      "Training MSE: 0.38796\n",
      "-- Epoch 45\n",
      "Training MSE: 0.38597\n",
      "-- Epoch 46\n",
      "Training MSE: 0.38406\n",
      "-- Epoch 47\n",
      "Training MSE: 0.38200\n",
      "-- Epoch 48\n",
      "Training MSE: 0.37993\n",
      "-- Epoch 49\n",
      "Training MSE: 0.37787\n",
      "-- Epoch 50\n",
      "Training MSE: 0.37579\n"
     ]
    },
    {
     "ename": "ValueError",
     "evalue": "I/O operation on closed file",
     "output_type": "error",
     "traceback": [
      "\u001b[1;31m---------------------------------------------------------------------------\u001b[0m",
      "\u001b[1;31mValueError\u001b[0m                                Traceback (most recent call last)",
      "\u001b[1;32m<ipython-input-9-fee02fa52e4b>\u001b[0m in \u001b[0;36m<module>\u001b[1;34m()\u001b[0m\n\u001b[0;32m     28\u001b[0m \u001b[0mfm\u001b[0m \u001b[1;33m=\u001b[0m \u001b[0mpylibfm\u001b[0m\u001b[1;33m.\u001b[0m\u001b[0mFM\u001b[0m\u001b[1;33m(\u001b[0m\u001b[0mnum_factors\u001b[0m\u001b[1;33m=\u001b[0m\u001b[1;36m10\u001b[0m\u001b[1;33m,\u001b[0m \u001b[0mnum_iter\u001b[0m\u001b[1;33m=\u001b[0m\u001b[1;36m100\u001b[0m\u001b[1;33m,\u001b[0m \u001b[0mverbose\u001b[0m\u001b[1;33m=\u001b[0m\u001b[0mTrue\u001b[0m\u001b[1;33m,\u001b[0m \u001b[0mtask\u001b[0m\u001b[1;33m=\u001b[0m\u001b[1;34m\"regression\"\u001b[0m\u001b[1;33m,\u001b[0m \u001b[0minitial_learning_rate\u001b[0m\u001b[1;33m=\u001b[0m\u001b[1;36m0.001\u001b[0m\u001b[1;33m,\u001b[0m \u001b[0mlearning_rate_schedule\u001b[0m\u001b[1;33m=\u001b[0m\u001b[1;34m\"optimal\"\u001b[0m\u001b[1;33m)\u001b[0m\u001b[1;33m\u001b[0m\u001b[0m\n\u001b[0;32m     29\u001b[0m \u001b[1;33m\u001b[0m\u001b[0m\n\u001b[1;32m---> 30\u001b[1;33m \u001b[0mfm\u001b[0m\u001b[1;33m.\u001b[0m\u001b[0mfit\u001b[0m\u001b[1;33m(\u001b[0m\u001b[0mX_train\u001b[0m\u001b[1;33m,\u001b[0m\u001b[0my_train\u001b[0m\u001b[1;33m)\u001b[0m\u001b[1;33m\u001b[0m\u001b[0m\n\u001b[0m",
      "\u001b[1;32mC:\\Anaconda2\\lib\\site-packages\\pyfm\\pylibfm.pyc\u001b[0m in \u001b[0;36mfit\u001b[1;34m(self, X, y)\u001b[0m\n\u001b[0;32m    208\u001b[0m                                verbose)\n\u001b[0;32m    209\u001b[0m \u001b[1;33m\u001b[0m\u001b[0m\n\u001b[1;32m--> 210\u001b[1;33m         \u001b[1;32mreturn\u001b[0m \u001b[0mself\u001b[0m\u001b[1;33m.\u001b[0m\u001b[0mfm_fast\u001b[0m\u001b[1;33m.\u001b[0m\u001b[0mfit\u001b[0m\u001b[1;33m(\u001b[0m\u001b[0mX_train_dataset\u001b[0m\u001b[1;33m,\u001b[0m \u001b[0mvalidation_dataset\u001b[0m\u001b[1;33m)\u001b[0m\u001b[1;33m\u001b[0m\u001b[0m\n\u001b[0m\u001b[0;32m    211\u001b[0m \u001b[1;33m\u001b[0m\u001b[0m\n\u001b[0;32m    212\u001b[0m         \u001b[1;31m# report epoch information\u001b[0m\u001b[1;33m\u001b[0m\u001b[1;33m\u001b[0m\u001b[0m\n",
      "\u001b[1;32mpyfm_fast.pyx\u001b[0m in \u001b[0;36mpyfm_fast.FM_fast.fit (pyfm_fast.c:5295)\u001b[1;34m()\u001b[0m\n",
      "\u001b[1;32mC:\\Anaconda2\\lib\\site-packages\\ipykernel\\iostream.pyc\u001b[0m in \u001b[0;36mwrite\u001b[1;34m(self, string)\u001b[0m\n\u001b[0;32m    315\u001b[0m \u001b[1;33m\u001b[0m\u001b[0m\n\u001b[0;32m    316\u001b[0m             \u001b[0mis_child\u001b[0m \u001b[1;33m=\u001b[0m \u001b[1;33m(\u001b[0m\u001b[1;32mnot\u001b[0m \u001b[0mself\u001b[0m\u001b[1;33m.\u001b[0m\u001b[0m_is_master_process\u001b[0m\u001b[1;33m(\u001b[0m\u001b[1;33m)\u001b[0m\u001b[1;33m)\u001b[0m\u001b[1;33m\u001b[0m\u001b[0m\n\u001b[1;32m--> 317\u001b[1;33m             \u001b[0mself\u001b[0m\u001b[1;33m.\u001b[0m\u001b[0m_buffer\u001b[0m\u001b[1;33m.\u001b[0m\u001b[0mwrite\u001b[0m\u001b[1;33m(\u001b[0m\u001b[0mstring\u001b[0m\u001b[1;33m)\u001b[0m\u001b[1;33m\u001b[0m\u001b[0m\n\u001b[0m\u001b[0;32m    318\u001b[0m             \u001b[1;32mif\u001b[0m \u001b[0mis_child\u001b[0m\u001b[1;33m:\u001b[0m\u001b[1;33m\u001b[0m\u001b[0m\n\u001b[0;32m    319\u001b[0m                 \u001b[1;31m# newlines imply flush in subprocesses\u001b[0m\u001b[1;33m\u001b[0m\u001b[1;33m\u001b[0m\u001b[0m\n",
      "\u001b[1;31mValueError\u001b[0m: I/O operation on closed file"
     ]
    }
   ],
   "source": [
    "import numpy as np\n",
    "from sklearn.feature_extraction import DictVectorizer\n",
    "from pyfm import pylibfm\n",
    "\n",
    "# Read in data\n",
    "def loadData(filename,path=\"C:/Users/Fizik/Downloads/coursera/nir/nir/movielens/ml-100k/\"):\n",
    "    data = []\n",
    "    y = []\n",
    "    users=set()\n",
    "    items=set()\n",
    "    with open(path+filename) as f:\n",
    "        for line in f:\n",
    "            (user,movieid,rating,ts)=line.split('\\t')\n",
    "            data.append({ \"user_id\": str(user), \"movie_id\": str(movieid)})\n",
    "            y.append(float(rating))\n",
    "            users.add(user)\n",
    "            items.add(movieid)\n",
    "\n",
    "    return (data, np.array(y), users, items)\n",
    "\n",
    "(train_data, y_train, train_users, train_items) = loadData(\"ua.base\")\n",
    "(test_data, y_test, test_users, test_items) = loadData(\"ua.test\")\n",
    "v = DictVectorizer()\n",
    "X_train = v.fit_transform(train_data)\n",
    "X_test = v.transform(test_data)\n",
    "\n",
    "# Build and train a Factorization Machine\n",
    "fm = pylibfm.FM(num_factors=10, num_iter=100, verbose=True, task=\"regression\", initial_learning_rate=0.001, learning_rate_schedule=\"optimal\")\n",
    "\n",
    "fm.fit(X_train,y_train)"
   ]
  },
  {
   "cell_type": "code",
   "execution_count": 10,
   "metadata": {
    "collapsed": false
   },
   "outputs": [
    {
     "name": "stdout",
     "output_type": "stream",
     "text": [
      "FM MSE: 0.9128\n",
      "precision_score: 0.4450\n",
      "recall_score: 0.3249\n"
     ]
    }
   ],
   "source": [
    "preds = fm.predict(X_test)\n",
    "from sklearn.metrics import mean_squared_error\n",
    "from sklearn.metrics import precision_score\n",
    "from sklearn.metrics import recall_score\n",
    "print(\"FM MSE: %.4f\" % mean_squared_error(y_test,preds))\n",
    "preds = [int(x) for x in preds]\n",
    "print(\"precision_score: %.4f\" % precision_score(y_test,preds, average='weighted'))\n",
    "print(\"recall_score: %.4f\" % recall_score(y_test,preds, average='weighted'))"
   ]
  },
  {
   "cell_type": "code",
   "execution_count": 25,
   "metadata": {
    "collapsed": false
   },
   "outputs": [
    {
     "name": "stdout",
     "output_type": "stream",
     "text": [
      "k: 50 ,precision_score: 0.5672\n",
      "K: 50 ,recall_score: 0.0031\n",
      "k: 100 ,precision_score: 0.5289\n",
      "K: 100 ,recall_score: 0.0058\n",
      "k: 1000 ,precision_score: 0.4776\n",
      "K: 1000 ,recall_score: 0.0426\n",
      "k: 5000 ,precision_score: 0.4420\n",
      "K: 5000 ,recall_score: 0.1830\n",
      "k: 8000 ,precision_score: 0.4113\n",
      "K: 8000 ,recall_score: 0.2796\n"
     ]
    }
   ],
   "source": [
    "id = np.argsort(preds)[::-1]\n",
    "for k in [50, 100, 1000, 5000, 8000]:\n",
    "    ids = id[:k]\n",
    "    print(\"k: %s ,precision_score: %.4f\" % (k, precision_score([y_test[i] for i in ids],[preds[i] for i in ids], average='weighted')))\n",
    "    print(\"K: %s ,recall_score: %.4f\" % (k,k*1.0/9430*recall_score([y_test[i] for i in ids],[preds[i] for i in ids], average='weighted')))"
   ]
  },
  {
   "cell_type": "code",
   "execution_count": 20,
   "metadata": {
    "collapsed": false
   },
   "outputs": [
    {
     "name": "stdout",
     "output_type": "stream",
     "text": [
      "[5.0, 5.0, 5.0, 4.0, 5.0, 5.0, 5.0, 4.0, 5.0, 5.0] [5, 5, 5, 5, 5, 5, 5, 5, 5, 5]\n"
     ]
    }
   ],
   "source": [
    "print [y_test[i] for i in ids],[preds[i] for i in ids]"
   ]
  },
  {
   "cell_type": "code",
   "execution_count": 32,
   "metadata": {
    "collapsed": false
   },
   "outputs": [
    {
     "name": "stdout",
     "output_type": "stream",
     "text": [
      "(90570, 2623)\n",
      "90570\n",
      "9430\n",
      "(9430, 2623)\n"
     ]
    }
   ],
   "source": [
    "print X_train.shape\n",
    "print len(y_train)\n",
    "print len(preds)\n",
    "print X_test.shape"
   ]
  },
  {
   "cell_type": "code",
   "execution_count": 34,
   "metadata": {
    "collapsed": false
   },
   "outputs": [
    {
     "name": "stdout",
     "output_type": "stream",
     "text": [
      "  (0, 793)\t1.0\n",
      "  (0, 1680)\t1.0\n",
      "  (1, 937)\t1.0\n",
      "  (1, 1680)\t1.0\n",
      "  (2, 1248)\t1.0\n",
      "  (2, 1680)\t1.0\n",
      "  (3, 190)\t1.0\n",
      "  (3, 1680)\t1.0\n",
      "  (4, 612)\t1.0\n",
      "  (4, 1680)\t1.0\n",
      "  (5, 667)\t1.0\n",
      "  (5, 1680)\t1.0\n",
      "  (6, 761)\t1.0\n",
      "  (6, 1680)\t1.0\n",
      "  (7, 780)\t1.0\n",
      "  (7, 1680)\t1.0\n",
      "  (8, 796)\t1.0\n",
      "  (8, 1680)\t1.0\n",
      "  (9, 865)\t1.0\n",
      "  (9, 1680)\t1.0\n",
      "  (10, 334)\t1.0\n",
      "  (10, 1791)\t1.0\n",
      "  (11, 1126)\t1.0\n",
      "  (11, 1791)\t1.0\n",
      "  (12, 850)\t1.0\n",
      "  :\t:\n",
      "  (9417, 2616)\t1.0\n",
      "  (9418, 1242)\t1.0\n",
      "  (9418, 2616)\t1.0\n",
      "  (9419, 1254)\t1.0\n",
      "  (9419, 2616)\t1.0\n",
      "  (9420, 112)\t1.0\n",
      "  (9420, 2617)\t1.0\n",
      "  (9421, 1214)\t1.0\n",
      "  (9421, 2617)\t1.0\n",
      "  (9422, 124)\t1.0\n",
      "  (9422, 2617)\t1.0\n",
      "  (9423, 777)\t1.0\n",
      "  (9423, 2617)\t1.0\n",
      "  (9424, 810)\t1.0\n",
      "  (9424, 2617)\t1.0\n",
      "  (9425, 829)\t1.0\n",
      "  (9425, 2617)\t1.0\n",
      "  (9426, 966)\t1.0\n",
      "  (9426, 2617)\t1.0\n",
      "  (9427, 1204)\t1.0\n",
      "  (9427, 2617)\t1.0\n",
      "  (9428, 1468)\t1.0\n",
      "  (9428, 2617)\t1.0\n",
      "  (9429, 76)\t1.0\n",
      "  (9429, 2617)\t1.0\n"
     ]
    }
   ],
   "source": [
    "print X_test"
   ]
  },
  {
   "cell_type": "markdown",
   "metadata": {},
   "source": [
    "classcification"
   ]
  },
  {
   "cell_type": "code",
   "execution_count": 8,
   "metadata": {
    "collapsed": false
   },
   "outputs": [
    {
     "name": "stdout",
     "output_type": "stream",
     "text": [
      "Creating validation dataset of 0.01 of training for adaptive regularization\n",
      "-- Epoch 1\n",
      "Training log loss: 1.94249\n",
      "-- Epoch 2\n",
      "Training log loss: 1.64100\n",
      "-- Epoch 3\n",
      "Training log loss: 1.39210\n",
      "-- Epoch 4\n",
      "Training log loss: 1.18709\n",
      "-- Epoch 5\n",
      "Training log loss: 1.01753\n",
      "-- Epoch 6\n",
      "Training log loss: 0.87650\n",
      "-- Epoch 7\n",
      "Training log loss: 0.75867\n",
      "-- Epoch 8\n",
      "Training log loss: 0.65960\n",
      "-- Epoch 9\n",
      "Training log loss: 0.57569\n",
      "-- Epoch 10\n",
      "Training log loss: 0.50416\n"
     ]
    }
   ],
   "source": [
    "import numpy as np\n",
    "from sklearn.feature_extraction import DictVectorizer\n",
    "from sklearn.cross_validation import train_test_split\n",
    "from pyfm import pylibfm\n",
    "\n",
    "from sklearn.datasets import make_classification\n",
    "\n",
    "X, y = make_classification(n_samples=1000,n_features=100, n_clusters_per_class=1)\n",
    "data = [ {v: k for k, v in dict(zip(i, range(len(i)))).items()}  for i in X]\n",
    "\n",
    "X_train, X_test, y_train, y_test = train_test_split(data, y, test_size=0.1, random_state=42)\n",
    "\n",
    "v = DictVectorizer()\n",
    "X_train = v.fit_transform(X_train)\n",
    "X_test = v.transform(X_test)\n",
    "\n",
    "fm = pylibfm.FM(num_factors=50, num_iter=10, verbose=True, task=\"classification\", initial_learning_rate=0.0001, learning_rate_schedule=\"optimal\")\n",
    "\n",
    "fm.fit(X_train,y_train)"
   ]
  },
  {
   "cell_type": "code",
   "execution_count": 9,
   "metadata": {
    "collapsed": false
   },
   "outputs": [
    {
     "name": "stdout",
     "output_type": "stream",
     "text": [
      "Validation log loss: 1.3999\n"
     ]
    }
   ],
   "source": [
    "from sklearn.metrics import log_loss\n",
    "print \"Validation log loss: %.4f\" % log_loss(y_test,fm.predict(X_test))"
   ]
  },
  {
   "cell_type": "markdown",
   "metadata": {
    "collapsed": true
   },
   "source": [
    "10M"
   ]
  },
  {
   "cell_type": "code",
   "execution_count": null,
   "metadata": {
    "collapsed": false
   },
   "outputs": [
    {
     "name": "stdout",
     "output_type": "stream",
     "text": [
      "Creating validation dataset of 0.01 of training for adaptive regularization\n"
     ]
    }
   ],
   "source": [
    "import numpy as np\n",
    "from sklearn.feature_extraction import DictVectorizer\n",
    "from pyfm import pylibfm\n",
    "\n",
    "# Read in data\n",
    "def loadData(filename,path=\"C:/Users/Fizik/Downloads/coursera/nir/nir/movielens/\"):\n",
    "    data = []\n",
    "    y = []\n",
    "    users=set()\n",
    "    items=set()\n",
    "    with open(path+filename) as f:\n",
    "        for line in f:\n",
    "            (user,movieid,rating,ts)=line.split('::')\n",
    "            data.append({ \"user_id\": str(user), \"movie_id\": str(movieid)})\n",
    "            y.append(float(rating))\n",
    "            users.add(user)\n",
    "            items.add(movieid)\n",
    "\n",
    "    return (data, np.array(y), users, items)\n",
    "\n",
    "(train_data, y_train, train_users, train_items) = loadData(\"rb.train\")\n",
    "(test_data, y_test, test_users, test_items) = loadData(\"rb.test\")\n",
    "v = DictVectorizer()\n",
    "X_train = v.fit_transform(train_data)\n",
    "X_test = v.transform(test_data)\n",
    "\n",
    "# Build and train a Factorization Machine\n",
    "fm = pylibfm.FM(num_factors=10, num_iter=100, verbose=True, task=\"regression\", initial_learning_rate=0.1, learning_rate_schedule=\"optimal\")\n",
    "\n",
    "fm.fit(X_train,y_train)"
   ]
  },
  {
   "cell_type": "code",
   "execution_count": null,
   "metadata": {
    "collapsed": true
   },
   "outputs": [],
   "source": [
    "preds = fm.predict(X_test)\n",
    "from sklearn.metrics import mean_squared_error\n",
    "from sklearn.metrics import precision_score\n",
    "from sklearn.metrics import recall_score\n",
    "print(\"FM MSE: %.4f\" % mean_squared_error(y_test,preds))\n",
    "preds = [int(x) for x in preds]\n",
    "print(\"precision_score: %.4f\" % precision_score(y_test,preds, average='weighted'))\n",
    "print(\"recall_score: %.4f\" % recall_score(y_test,preds, average='weighted'))"
   ]
  },
  {
   "cell_type": "code",
   "execution_count": null,
   "metadata": {
    "collapsed": true
   },
   "outputs": [],
   "source": []
  }
 ],
 "metadata": {
  "kernelspec": {
   "display_name": "Python 2",
   "language": "python",
   "name": "python2"
  },
  "language_info": {
   "codemirror_mode": {
    "name": "ipython",
    "version": 2
   },
   "file_extension": ".py",
   "mimetype": "text/x-python",
   "name": "python",
   "nbconvert_exporter": "python",
   "pygments_lexer": "ipython2",
   "version": "2.7.11"
  }
 },
 "nbformat": 4,
 "nbformat_minor": 0
}

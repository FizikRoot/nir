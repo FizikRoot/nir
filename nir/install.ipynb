{
 "cells": [
  {
   "cell_type": "code",
   "execution_count": 5,
   "metadata": {
    "collapsed": false
   },
   "outputs": [],
   "source": [
    "import pip"
   ]
  },
  {
   "cell_type": "code",
   "execution_count": 8,
   "metadata": {
    "collapsed": false
   },
   "outputs": [
    {
     "name": "stdout",
     "output_type": "stream",
     "text": [
      "Requirement already up-to-date: nimfa in /home/clay/anaconda2/lib/python2.7/site-packages\n",
      "Requirement already up-to-date: numpy>=1.7.0 in /home/clay/anaconda2/lib/python2.7/site-packages (from nimfa)\n",
      "Requirement already up-to-date: scipy>=0.12.0 in /home/clay/anaconda2/lib/python2.7/site-packages (from nimfa)\n"
     ]
    }
   ],
   "source": [
    "def install(package):\n",
    "    pip.main(['install', '--upgrade',package])\n",
    "    \n",
    "install('nimfa')"
   ]
  },
  {
   "cell_type": "code",
   "execution_count": null,
   "metadata": {
    "collapsed": true
   },
   "outputs": [],
   "source": []
  },
  {
   "cell_type": "code",
   "execution_count": null,
   "metadata": {
    "collapsed": true
   },
   "outputs": [],
   "source": []
  }
 ],
 "metadata": {
  "kernelspec": {
   "display_name": "Python 2",
   "language": "python",
   "name": "python2"
  },
  "language_info": {
   "codemirror_mode": {
    "name": "ipython",
    "version": 2
   },
   "file_extension": ".py",
   "mimetype": "text/x-python",
   "name": "python",
   "nbconvert_exporter": "python",
   "pygments_lexer": "ipython2",
   "version": "2.7.11"
  }
 },
 "nbformat": 4,
 "nbformat_minor": 0
}

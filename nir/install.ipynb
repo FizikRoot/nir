{
 "cells": [
  {
   "cell_type": "code",
   "execution_count": 2,
   "metadata": {
    "collapsed": false
   },
   "outputs": [],
   "source": [
    "import pip"
   ]
  },
  {
   "cell_type": "code",
   "execution_count": 3,
   "metadata": {
    "collapsed": false
   },
   "outputs": [
    {
     "name": "stdout",
     "output_type": "stream",
     "text": [
      "Requirement already up-to-date: pandas in c:\\anaconda2\\lib\\site-packages\n",
      "Requirement already up-to-date: numpy>=1.7.0 in c:\\anaconda2\\lib\\site-packages (from pandas)\n",
      "Requirement already up-to-date: python-dateutil in c:\\anaconda2\\lib\\site-packages (from pandas)\n",
      "Requirement already up-to-date: pytz>=2011k in c:\\anaconda2\\lib\\site-packages (from pandas)\n",
      "Requirement already up-to-date: six>=1.5 in c:\\anaconda2\\lib\\site-packages (from python-dateutil->pandas)\n"
     ]
    }
   ],
   "source": [
    "def install(package):\n",
    "    pip.main(['install','--upgrade', package])\n",
    "    \n",
    "install('pandas')"
   ]
  },
  {
   "cell_type": "code",
   "execution_count": null,
   "metadata": {
    "collapsed": true
   },
   "outputs": [],
   "source": []
  },
  {
   "cell_type": "code",
   "execution_count": null,
   "metadata": {
    "collapsed": true
   },
   "outputs": [],
   "source": []
  }
 ],
 "metadata": {
  "kernelspec": {
   "display_name": "Python 2",
   "language": "python",
   "name": "python2"
  },
  "language_info": {
   "codemirror_mode": {
    "name": "ipython",
    "version": 2
   },
   "file_extension": ".py",
   "mimetype": "text/x-python",
   "name": "python",
   "nbconvert_exporter": "python",
   "pygments_lexer": "ipython2",
   "version": "2.7.11"
  }
 },
 "nbformat": 4,
 "nbformat_minor": 0
}

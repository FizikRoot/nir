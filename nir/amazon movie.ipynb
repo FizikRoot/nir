{
 "cells": [
  {
   "cell_type": "code",
   "execution_count": 15,
   "metadata": {
    "collapsed": false
   },
   "outputs": [
    {
     "name": "stdout",
     "output_type": "stream",
     "text": [
      "[{'helpfulness': '7/7',\n",
      "  'productId': 'B003AI2VGA',\n",
      "  'profileName': 'Brian E. Erland \"Rainbow Sphinx\"',\n",
      "  'score': '3.0',\n",
      "  'summary': '\"There Is So Much Darkness Now ~ Come For The Miracle\"',\n",
      "  'text': 'Synopsis: On the daily trek from Juarez, Mexico to El Paso, Texas an ever increasing number of female workers are found raped and murdered in the surrounding desert. Investigative reporter Karina Danes (Minnie Driver) arrives from Los Angeles to pursue the story and angers both the local police and the factory owners who employee the undocumented aliens with her pointed questions and relentless quest for the truth.<br /><br />Her story goes nationwide when a young girl named Mariela (Ana Claudia Talancon) survives a vicious attack and walks out of the desert crediting the Blessed Virgin for her rescue. Her story is further enhanced when the \"Wounds of Christ\" (stigmata) appear in her palms. She also claims to have received a message of hope for the Virgin Mary and soon a fanatical movement forms around her to fight against the evil that holds such a stranglehold on the area.<br /><br />Critique: Possessing a lifelong fascination with such esoteric matters as Catholic mysticism, miracles and the mysterious appearance of the stigmata, I was immediately attracted to the \\'05 DVD release `Virgin of Juarez\\'. The film offers a rather unique storyline blending current socio-political concerns, the constant flow of Mexican migrant workers back and forth across the U.S./Mexican border and the traditional Catholic beliefs of the Hispanic population. I must say I was quite surprised by the unexpected route taken by the plot and the means and methods by which the heavenly message unfolds.<br /><br />`Virgin of Juarez\\' is not a film that you would care to watch over and over again, but it was interesting enough to merit at least one viewing. Minnie Driver delivers a solid performance and Ana Claudia Talancon is perfect as the fragile and innocent visionary Mariela. Also starring Esai Morales and Angus Macfadyen (Braveheart).',\n",
      "  'time': '1182729600',\n",
      "  'userId': 'A141HP4LYPWMSR'},\n",
      " {'helpfulness': '4/4',\n",
      "  'productId': 'B003AI2VGA',\n",
      "  'profileName': 'Grady Harp',\n",
      "  'score': '3.0',\n",
      "  'summary': 'Worthwhile and Important Story Hampered by Poor Script and Production',\n",
      "  'text': \"THE VIRGIN OF JUAREZ is based on true events surrounding the crime problems of Juarez, Mexico reflected in the gringo exploitation of businesses in neighboring El Paso, Texas.  The story contains many important facts that desperately need to be brought into the light, but the impact of the film falters because of the choices made by the writer and director.<br /><br />Karina Danes (Minnie Driver) is a journalist for a Los Angeles newspaper who has flown to Juarez to investigate the multiple (in the hundreds) killings of young women. The targets for these murders seem to be young women working in the US sponsored sweatshops in Juarez who are picked up at night after work, raped, beaten and killed.  Danes is convinced the Juarez police force is doing nothing and takes on the mission of exposing the tragedies, in part due to her own past issues of being too idle with similar crimes in the US.  She meets Father Herrera (Esai Morales) and a community activist Patrick (Angus MacFadyen) and together they probe the police files and follow the most recent murder, discovering along the way a survivor named Mariela (Ana Claudia Talanc&oacute;n), a frightened young girl whose memory of her rape and beating is erased by her apparent vision of the Virgin Mary.  A father of one of the victims, Isidro (Jorge Cervera, Jr.) nurtures Mariela and helps her to escape the hospital, placing her in a 'church' where she becomes a 'saint' to the people of Juarez who long for the crimes to end.  Mariela appears to the public with the stigmata of bleeding hands and offers hope to the victims' families.  Danes works hard to discover evidence that will expose the perpetrators, taking a sheet of photos of 'most wanted men' from the police office of Detective Lauro (Jacob Vargas), and works with the police and Father Herrera to resolve the tragic chain of events that continue in Juarez. Fearing for Mariela's life, they transport her to Los Angeles where mysterious events end the story.<br /><br />The squeaky, mawkish script was written by Michael Fallon and directed by Kevin James Dobson.  Had their vision been more directed toward defining the line between realism and fanaticism, the story would possibly have been better related.  There are some good performances by Driver, Talanc&oacute;n, Morales, and Vargas but the minor roles vary in quality.  Reporting atrocities such as the one this film addresses is a valid and valuable contribution of contemporary cinema.  It is sad when script and the production dull the impact.  Grady Harp, June 07\",\n",
      "  'time': '1181952000',\n",
      "  'userId': 'A328S9RN3U5M68'},\n",
      " {'helpfulness': '8/10',\n",
      "  'productId': 'B003AI2VGA',\n",
      "  'profileName': 'Chrissy K. McVay \"Writer\"',\n",
      "  'score': '5.0',\n",
      "  'summary': 'This movie needed to be made.',\n",
      "  'text': \"The scenes in this film can be very disquieting due to their graphic re-enactment of real events, but this story needs to be told. I will say the violence was injected into the movie with as much taste as manageable when dealing with rape scenes, etc. Inspired by true events, women are being murdered in Juarez after they leave the factory where they work. A fearful community is suddenly given some hope when one of the young victims not only lives, but experiences 'stigmata' after seeing the Virgin Mary.  I was shocked to learn that murders in Juarez are still happening and many are unsolved. I believe this director brought a very important story to the surface. Though it's never pleasant to think about young women being murdered, this movie depicts a harsh reality of the high cost of exploited-cheap labor.<br /><br />Chrissy K. McVay - Author\",\n",
      "  'time': '1164844800',\n",
      "  'userId': 'A1I7QGUDP043DG'}]\n"
     ]
    }
   ],
   "source": [
    "import pprint\n",
    "from gensim.models import Word2Vec\n",
    "\n",
    "import nltk\n",
    "from nltk.corpus import stopwords\n",
    "from bs4 import BeautifulSoup\n",
    "\n",
    "list_of_dicts = []\n",
    "dict_of_data = {}\n",
    "# Opens a handle to the file, but does not read anything yet.\n",
    "fh = open('movies.small.txt')\n",
    "\n",
    "# This is more memory efficient.\n",
    "# Reads one line at a time.\n",
    "for line in fh.readlines():\n",
    "    # Strip off leading and trailing white-space.\n",
    "    line = line.strip()\n",
    "    if line != '':\n",
    "        # Assume it's safe to split:\n",
    "        label, data = line.split(': ', 1)\n",
    "        shortkey = label.split('/')[1]\n",
    "        dict_of_data[shortkey] = data\n",
    "    else:\n",
    "        # We're at the end of a record. Everything we want is in the\n",
    "        # dictionary.\n",
    "        list_of_dicts.append(dict_of_data)\n",
    "        dict_of_data = {}\n",
    "\n",
    "# Look at the first three items.\n",
    "pprint.pprint((list_of_dicts[0:3]))"
   ]
  },
  {
   "cell_type": "code",
   "execution_count": 16,
   "metadata": {
    "collapsed": true
   },
   "outputs": [],
   "source": [
    "import re\n",
    "def text_to_wordlist(text, remove_stopwords=False):\n",
    "    text = re.sub(\"[^a-zA-Z]\", \" \", text)\n",
    "    words = text.lower().split()\n",
    "    # Optionally remove stop words (false by default)\n",
    "    if remove_stopwords:\n",
    "        stops = set(stopwords.words(\"english\"))\n",
    "        words = [w for w in words if not w in stops]\n",
    "    # 5. Return a list of words\n",
    "    return words\n",
    "\n",
    "\n",
    "def make_feature_matrix(words, model):\n",
    "    # feature_matrix = np.zeros((len(words), num_features), dtype=\"float32\")\n",
    "    feature_matrix = []\n",
    "    # counter = 0.\n",
    "    for word in words:\n",
    "        if word in model.vocab:\n",
    "            feature_matrix.append(list(model[word]))\n",
    "            # feature_matrix[counter] = model[word]\n",
    "            # counter += 1\n",
    "        # else:\n",
    "        #    print 'word', word, 'is not in a model\\n'\n",
    "    feature_matrix = np.array(feature_matrix)\n",
    "    return feature_matrix"
   ]
  },
  {
   "cell_type": "code",
   "execution_count": 17,
   "metadata": {
    "collapsed": false
   },
   "outputs": [],
   "source": [
    "###### Modify in place.\n",
    "import datetime\n",
    "for review in list_of_dicts:\n",
    "    # Convert to float\n",
    "    review['score'] = float(review['score'])\n",
    "    # Convert to readable time\n",
    "    int_timestamp = int(review['time'])\n",
    "    datetime_obj = datetime.datetime.fromtimestamp(int_timestamp)\n",
    "    str_iso_datetime = datetime_obj.isoformat()\n",
    "    review['time'] = str_iso_datetime\n",
    "    \n",
    "    review['text'] = text_to_wordlist(BeautifulSoup(review['text']).get_text(), nltk.data.load('tokenizers/punkt/english.pickle'))\n",
    "\n",
    "# Modify in place some more!!\n",
    "# Convert helpfulness to a float.\n",
    "for review in list_of_dicts:\n",
    "    helpful_str, numberof_str = review['helpfulness'].split('/')\n",
    "    helpful_int = int(helpful_str)\n",
    "    numberof_int = int(numberof_str)\n",
    "    if numberof_int == 0: # Why is this needed?\n",
    "        numberof_int = 1.0\n",
    "    review['helpfulness'] = float(helpful_int)/numberof_int\n",
    "    review['helpful'] = helpful_int\n",
    "    review['total'] = numberof_int"
   ]
  },
  {
   "cell_type": "code",
   "execution_count": 23,
   "metadata": {
    "collapsed": false
   },
   "outputs": [
    {
     "name": "stdout",
     "output_type": "stream",
     "text": [
      "Parsing sentences from training set\n",
      "474550\n",
      "synopsis\n",
      "daily\n",
      "5554\n"
     ]
    }
   ],
   "source": [
    "sentences = []\n",
    "print(\"Parsing sentences from training set\")\n",
    "for review in (list_of_dicts):\n",
    "    sentences += review['text']\n",
    "print len(sentences)\n",
    "print sentences[0]\n",
    "print sentences[1]\n",
    "print len(list_of_dicts)"
   ]
  },
  {
   "cell_type": "code",
   "execution_count": 24,
   "metadata": {
    "collapsed": true
   },
   "outputs": [],
   "source": [
    "wordfreq = {}\n",
    "for word in sentences:\n",
    "    if word not in wordfreq:\n",
    "        wordfreq[word] = 0 \n",
    "    wordfreq[word] += 1"
   ]
  },
  {
   "cell_type": "code",
   "execution_count": 25,
   "metadata": {
    "collapsed": false
   },
   "outputs": [
    {
     "name": "stdout",
     "output_type": "stream",
     "text": [
      "Training model...\n",
      "(474550, 100)\n"
     ]
    }
   ],
   "source": [
    "from gensim.models import Word2Vec\n",
    "import datetime\n",
    "\n",
    "import nltk\n",
    "from nltk.corpus import stopwords\n",
    "\n",
    "num_features = 100    # Word vector dimensionality\n",
    "min_word_count = 2   # Minimum word count\n",
    "num_workers = 2       # Number of threads to run in parallel\n",
    "context = 10          # Context window size\n",
    "downsampling = 1e-3   # Downsample setting for frequent words\n",
    "\n",
    "print(\"Training model...\")\n",
    "model = Word2Vec(sentences, workers=num_workers, \\\n",
    "            size=num_features, min_count = min_word_count, \\\n",
    "            window = context, sample = downsampling)\n",
    "model_name = \"100features_40minwords_10context\" + datetime.datetime.now().strftime('%Y%m%d%H%M%S')\n",
    "model.save(model_name)\n",
    "\n",
    "from sklearn.feature_extraction.text import CountVectorizer\n",
    "vectorizer = CountVectorizer(analyzer = 'word', tokenizer = None, preprocessor = None, stop_words = None, max_features = 100)\n",
    "\n",
    "words_features = vectorizer.fit_transform(sentences)\n",
    "\n",
    "words_features = words_features.toarray()\n",
    "\n",
    "print words_features.shape"
   ]
  },
  {
   "cell_type": "code",
   "execution_count": 31,
   "metadata": {
    "collapsed": false
   },
   "outputs": [
    {
     "name": "stdout",
     "output_type": "stream",
     "text": [
      "[u'movie', u'film', u'one', u'like', u'good', u'great', u'story', u'time', u'would', u'well', u'see', u'much', u'really', u'dvd', u'even', u'also', u'first', u'get', u'movies', u'samurai', u'love', u'best', u'way', u'many', u'people', u'watch', u'character', u'could', u'life', u'think', u'little', u'still', u'better', u'make', u'know', u'made', u'films', u'scenes', u'two', u'never', u'action', u'back', u'characters', u'man', u'new', u'end', u'kids', u'seen', u'years', u'say', u'last', u'acting', u'watching', u'john', u'old', u'terminator', u'us', u'cruise', u'series', u'scene', u'ever', u'book', u'real', u'plot', u'tom', u'go', u'young', u'nash', u'though', u'want', u'director', u'something', u'bad', u'beautiful', u'mind', u'part', u'show', u'makes', u'find', u'another', u'special', u'every', u'however', u'japanese', u'long', u'excellent', u'world', u'original', u'version', u'lot', u'actually', u'actors', u'must', u'times', u'performance', u'things', u'done', u'going', u'set', u'feel']\n"
     ]
    }
   ],
   "source": [
    "import operator\n",
    "sorted_x = sorted(wordfreq.items(), key=operator.itemgetter(1))[::-1][:100]\n",
    "sorts = map(lambda x:x[0], sorted_x)\n",
    "print sorts"
   ]
  },
  {
   "cell_type": "code",
   "execution_count": 32,
   "metadata": {
    "collapsed": true
   },
   "outputs": [],
   "source": [
    "words = {}\n",
    "for i, e in enumerate(sorts):\n",
    "    words[e] = i"
   ]
  },
  {
   "cell_type": "code",
   "execution_count": 43,
   "metadata": {
    "collapsed": false
   },
   "outputs": [],
   "source": [
    "import numpy as np\n",
    "Y = 5 * np.zeros((100,156))"
   ]
  },
  {
   "cell_type": "code",
   "execution_count": 47,
   "metadata": {
    "collapsed": false
   },
   "outputs": [],
   "source": [
    "movieses = {}\n",
    "for review in list_of_dicts:\n",
    "    id = review['productId']\n",
    "    if id not in movieses:\n",
    "        movieses[id] = []\n",
    "    movieses[id] += review['text']\n",
    "mov = movieses.keys()"
   ]
  },
  {
   "cell_type": "code",
   "execution_count": 49,
   "metadata": {
    "collapsed": true
   },
   "outputs": [],
   "source": [
    "import pandas as pd\n",
    "df = pd.DataFrame(list_of_dicts)"
   ]
  },
  {
   "cell_type": "code",
   "execution_count": 51,
   "metadata": {
    "collapsed": false
   },
   "outputs": [
    {
     "data": {
      "text/html": [
       "<div>\n",
       "<table border=\"1\" class=\"dataframe\">\n",
       "  <thead>\n",
       "    <tr style=\"text-align: right;\">\n",
       "      <th></th>\n",
       "      <th>helpful</th>\n",
       "      <th>helpfulness</th>\n",
       "      <th>productId</th>\n",
       "      <th>profileName</th>\n",
       "      <th>score</th>\n",
       "      <th>summary</th>\n",
       "      <th>text</th>\n",
       "      <th>time</th>\n",
       "      <th>total</th>\n",
       "      <th>userId</th>\n",
       "    </tr>\n",
       "  </thead>\n",
       "  <tbody>\n",
       "    <tr>\n",
       "      <th>0</th>\n",
       "      <td>7</td>\n",
       "      <td>1.0</td>\n",
       "      <td>B003AI2VGA</td>\n",
       "      <td>Brian E. Erland \"Rainbow Sphinx\"</td>\n",
       "      <td>3.0</td>\n",
       "      <td>\"There Is So Much Darkness Now ~ Come For The ...</td>\n",
       "      <td>[synopsis, daily, trek, juarez, mexico, el, pa...</td>\n",
       "      <td>2007-06-25T04:00:00</td>\n",
       "      <td>7.0</td>\n",
       "      <td>A141HP4LYPWMSR</td>\n",
       "    </tr>\n",
       "    <tr>\n",
       "      <th>1</th>\n",
       "      <td>4</td>\n",
       "      <td>1.0</td>\n",
       "      <td>B003AI2VGA</td>\n",
       "      <td>Grady Harp</td>\n",
       "      <td>3.0</td>\n",
       "      <td>Worthwhile and Important Story Hampered by Poo...</td>\n",
       "      <td>[virgin, juarez, based, true, events, surround...</td>\n",
       "      <td>2007-06-16T04:00:00</td>\n",
       "      <td>4.0</td>\n",
       "      <td>A328S9RN3U5M68</td>\n",
       "    </tr>\n",
       "    <tr>\n",
       "      <th>2</th>\n",
       "      <td>8</td>\n",
       "      <td>0.8</td>\n",
       "      <td>B003AI2VGA</td>\n",
       "      <td>Chrissy K. McVay \"Writer\"</td>\n",
       "      <td>5.0</td>\n",
       "      <td>This movie needed to be made.</td>\n",
       "      <td>[scenes, film, disquieting, due, graphic, enac...</td>\n",
       "      <td>2006-11-30T03:00:00</td>\n",
       "      <td>10.0</td>\n",
       "      <td>A1I7QGUDP043DG</td>\n",
       "    </tr>\n",
       "    <tr>\n",
       "      <th>3</th>\n",
       "      <td>1</td>\n",
       "      <td>1.0</td>\n",
       "      <td>B003AI2VGA</td>\n",
       "      <td>golgotha.gov</td>\n",
       "      <td>3.0</td>\n",
       "      <td>distantly based on a real tragedy</td>\n",
       "      <td>[virgin, juarez, directed, kevin, james, dobso...</td>\n",
       "      <td>2007-12-09T03:00:00</td>\n",
       "      <td>1.0</td>\n",
       "      <td>A1M5405JH9THP9</td>\n",
       "    </tr>\n",
       "    <tr>\n",
       "      <th>4</th>\n",
       "      <td>1</td>\n",
       "      <td>1.0</td>\n",
       "      <td>B003AI2VGA</td>\n",
       "      <td>KerrLines \"&amp;#34;Movies,Music,Theatre&amp;#34;\"</td>\n",
       "      <td>3.0</td>\n",
       "      <td>\"What's going on down in Juarez and shining a ...</td>\n",
       "      <td>[informationally, showtime, original, essentia...</td>\n",
       "      <td>2007-08-29T04:00:00</td>\n",
       "      <td>1.0</td>\n",
       "      <td>ATXL536YX71TR</td>\n",
       "    </tr>\n",
       "  </tbody>\n",
       "</table>\n",
       "</div>"
      ],
      "text/plain": [
       "   helpful  helpfulness   productId  \\\n",
       "0        7          1.0  B003AI2VGA   \n",
       "1        4          1.0  B003AI2VGA   \n",
       "2        8          0.8  B003AI2VGA   \n",
       "3        1          1.0  B003AI2VGA   \n",
       "4        1          1.0  B003AI2VGA   \n",
       "\n",
       "                                  profileName  score  \\\n",
       "0            Brian E. Erland \"Rainbow Sphinx\"    3.0   \n",
       "1                                  Grady Harp    3.0   \n",
       "2                   Chrissy K. McVay \"Writer\"    5.0   \n",
       "3                                golgotha.gov    3.0   \n",
       "4  KerrLines \"&#34;Movies,Music,Theatre&#34;\"    3.0   \n",
       "\n",
       "                                             summary  \\\n",
       "0  \"There Is So Much Darkness Now ~ Come For The ...   \n",
       "1  Worthwhile and Important Story Hampered by Poo...   \n",
       "2                      This movie needed to be made.   \n",
       "3                  distantly based on a real tragedy   \n",
       "4  \"What's going on down in Juarez and shining a ...   \n",
       "\n",
       "                                                text                 time  \\\n",
       "0  [synopsis, daily, trek, juarez, mexico, el, pa...  2007-06-25T04:00:00   \n",
       "1  [virgin, juarez, based, true, events, surround...  2007-06-16T04:00:00   \n",
       "2  [scenes, film, disquieting, due, graphic, enac...  2006-11-30T03:00:00   \n",
       "3  [virgin, juarez, directed, kevin, james, dobso...  2007-12-09T03:00:00   \n",
       "4  [informationally, showtime, original, essentia...  2007-08-29T04:00:00   \n",
       "\n",
       "   total          userId  \n",
       "0    7.0  A141HP4LYPWMSR  \n",
       "1    4.0  A328S9RN3U5M68  \n",
       "2   10.0  A1I7QGUDP043DG  \n",
       "3    1.0  A1M5405JH9THP9  \n",
       "4    1.0   ATXL536YX71TR  "
      ]
     },
     "execution_count": 51,
     "metadata": {},
     "output_type": "execute_result"
    }
   ],
   "source": [
    "df.head()"
   ]
  },
  {
   "cell_type": "code",
   "execution_count": 52,
   "metadata": {
    "collapsed": false
   },
   "outputs": [
    {
     "data": {
      "text/html": [
       "<div>\n",
       "<table border=\"1\" class=\"dataframe\">\n",
       "  <thead>\n",
       "    <tr style=\"text-align: right;\">\n",
       "      <th>productId</th>\n",
       "      <th>0790747324</th>\n",
       "      <th>0800103688</th>\n",
       "      <th>1562229567</th>\n",
       "      <th>1573470937</th>\n",
       "      <th>1888617047</th>\n",
       "      <th>6300147967</th>\n",
       "      <th>6300157423</th>\n",
       "      <th>6300213153</th>\n",
       "      <th>6300246299</th>\n",
       "      <th>6301173147</th>\n",
       "      <th>...</th>\n",
       "      <th>B007EMEOEA</th>\n",
       "      <th>B007NF02Q2</th>\n",
       "      <th>B0085KGGLY</th>\n",
       "      <th>B0088QNUUK</th>\n",
       "      <th>B008BSM1EG</th>\n",
       "      <th>B008FPU7AA</th>\n",
       "      <th>B0092MDYV4</th>\n",
       "      <th>B0095D5454</th>\n",
       "      <th>B0099VUXCQ</th>\n",
       "      <th>B009B6XA1U</th>\n",
       "    </tr>\n",
       "    <tr>\n",
       "      <th>userId</th>\n",
       "      <th></th>\n",
       "      <th></th>\n",
       "      <th></th>\n",
       "      <th></th>\n",
       "      <th></th>\n",
       "      <th></th>\n",
       "      <th></th>\n",
       "      <th></th>\n",
       "      <th></th>\n",
       "      <th></th>\n",
       "      <th></th>\n",
       "      <th></th>\n",
       "      <th></th>\n",
       "      <th></th>\n",
       "      <th></th>\n",
       "      <th></th>\n",
       "      <th></th>\n",
       "      <th></th>\n",
       "      <th></th>\n",
       "      <th></th>\n",
       "      <th></th>\n",
       "    </tr>\n",
       "  </thead>\n",
       "  <tbody>\n",
       "    <tr>\n",
       "      <th>A100Y8WSLFJN7Q</th>\n",
       "      <td>NaN</td>\n",
       "      <td>NaN</td>\n",
       "      <td>NaN</td>\n",
       "      <td>NaN</td>\n",
       "      <td>NaN</td>\n",
       "      <td>NaN</td>\n",
       "      <td>NaN</td>\n",
       "      <td>NaN</td>\n",
       "      <td>NaN</td>\n",
       "      <td>NaN</td>\n",
       "      <td>...</td>\n",
       "      <td>NaN</td>\n",
       "      <td>NaN</td>\n",
       "      <td>NaN</td>\n",
       "      <td>NaN</td>\n",
       "      <td>NaN</td>\n",
       "      <td>NaN</td>\n",
       "      <td>NaN</td>\n",
       "      <td>NaN</td>\n",
       "      <td>NaN</td>\n",
       "      <td>NaN</td>\n",
       "    </tr>\n",
       "    <tr>\n",
       "      <th>A103EXN5Q7HX6Z</th>\n",
       "      <td>NaN</td>\n",
       "      <td>NaN</td>\n",
       "      <td>NaN</td>\n",
       "      <td>NaN</td>\n",
       "      <td>NaN</td>\n",
       "      <td>NaN</td>\n",
       "      <td>NaN</td>\n",
       "      <td>NaN</td>\n",
       "      <td>NaN</td>\n",
       "      <td>NaN</td>\n",
       "      <td>...</td>\n",
       "      <td>NaN</td>\n",
       "      <td>NaN</td>\n",
       "      <td>NaN</td>\n",
       "      <td>NaN</td>\n",
       "      <td>NaN</td>\n",
       "      <td>NaN</td>\n",
       "      <td>NaN</td>\n",
       "      <td>1.0</td>\n",
       "      <td>NaN</td>\n",
       "      <td>NaN</td>\n",
       "    </tr>\n",
       "    <tr>\n",
       "      <th>A103VZ3KDF2RT5</th>\n",
       "      <td>NaN</td>\n",
       "      <td>NaN</td>\n",
       "      <td>NaN</td>\n",
       "      <td>NaN</td>\n",
       "      <td>NaN</td>\n",
       "      <td>NaN</td>\n",
       "      <td>NaN</td>\n",
       "      <td>NaN</td>\n",
       "      <td>NaN</td>\n",
       "      <td>NaN</td>\n",
       "      <td>...</td>\n",
       "      <td>NaN</td>\n",
       "      <td>NaN</td>\n",
       "      <td>NaN</td>\n",
       "      <td>NaN</td>\n",
       "      <td>NaN</td>\n",
       "      <td>NaN</td>\n",
       "      <td>NaN</td>\n",
       "      <td>NaN</td>\n",
       "      <td>NaN</td>\n",
       "      <td>NaN</td>\n",
       "    </tr>\n",
       "    <tr>\n",
       "      <th>A103ZG6ASSR7UT</th>\n",
       "      <td>NaN</td>\n",
       "      <td>NaN</td>\n",
       "      <td>NaN</td>\n",
       "      <td>NaN</td>\n",
       "      <td>NaN</td>\n",
       "      <td>NaN</td>\n",
       "      <td>NaN</td>\n",
       "      <td>NaN</td>\n",
       "      <td>NaN</td>\n",
       "      <td>NaN</td>\n",
       "      <td>...</td>\n",
       "      <td>NaN</td>\n",
       "      <td>NaN</td>\n",
       "      <td>NaN</td>\n",
       "      <td>NaN</td>\n",
       "      <td>NaN</td>\n",
       "      <td>NaN</td>\n",
       "      <td>NaN</td>\n",
       "      <td>NaN</td>\n",
       "      <td>NaN</td>\n",
       "      <td>NaN</td>\n",
       "    </tr>\n",
       "    <tr>\n",
       "      <th>A1041HQGJDKFG5</th>\n",
       "      <td>NaN</td>\n",
       "      <td>NaN</td>\n",
       "      <td>NaN</td>\n",
       "      <td>NaN</td>\n",
       "      <td>NaN</td>\n",
       "      <td>NaN</td>\n",
       "      <td>NaN</td>\n",
       "      <td>NaN</td>\n",
       "      <td>NaN</td>\n",
       "      <td>NaN</td>\n",
       "      <td>...</td>\n",
       "      <td>NaN</td>\n",
       "      <td>NaN</td>\n",
       "      <td>NaN</td>\n",
       "      <td>NaN</td>\n",
       "      <td>NaN</td>\n",
       "      <td>NaN</td>\n",
       "      <td>NaN</td>\n",
       "      <td>NaN</td>\n",
       "      <td>NaN</td>\n",
       "      <td>NaN</td>\n",
       "    </tr>\n",
       "  </tbody>\n",
       "</table>\n",
       "<p>5 rows × 156 columns</p>\n",
       "</div>"
      ],
      "text/plain": [
       "productId       0790747324  0800103688  1562229567  1573470937  1888617047  \\\n",
       "userId                                                                       \n",
       "A100Y8WSLFJN7Q         NaN         NaN         NaN         NaN         NaN   \n",
       "A103EXN5Q7HX6Z         NaN         NaN         NaN         NaN         NaN   \n",
       "A103VZ3KDF2RT5         NaN         NaN         NaN         NaN         NaN   \n",
       "A103ZG6ASSR7UT         NaN         NaN         NaN         NaN         NaN   \n",
       "A1041HQGJDKFG5         NaN         NaN         NaN         NaN         NaN   \n",
       "\n",
       "productId       6300147967  6300157423  6300213153  6300246299  6301173147  \\\n",
       "userId                                                                       \n",
       "A100Y8WSLFJN7Q         NaN         NaN         NaN         NaN         NaN   \n",
       "A103EXN5Q7HX6Z         NaN         NaN         NaN         NaN         NaN   \n",
       "A103VZ3KDF2RT5         NaN         NaN         NaN         NaN         NaN   \n",
       "A103ZG6ASSR7UT         NaN         NaN         NaN         NaN         NaN   \n",
       "A1041HQGJDKFG5         NaN         NaN         NaN         NaN         NaN   \n",
       "\n",
       "productId          ...      B007EMEOEA  B007NF02Q2  B0085KGGLY  B0088QNUUK  \\\n",
       "userId             ...                                                       \n",
       "A100Y8WSLFJN7Q     ...             NaN         NaN         NaN         NaN   \n",
       "A103EXN5Q7HX6Z     ...             NaN         NaN         NaN         NaN   \n",
       "A103VZ3KDF2RT5     ...             NaN         NaN         NaN         NaN   \n",
       "A103ZG6ASSR7UT     ...             NaN         NaN         NaN         NaN   \n",
       "A1041HQGJDKFG5     ...             NaN         NaN         NaN         NaN   \n",
       "\n",
       "productId       B008BSM1EG  B008FPU7AA  B0092MDYV4  B0095D5454  B0099VUXCQ  \\\n",
       "userId                                                                       \n",
       "A100Y8WSLFJN7Q         NaN         NaN         NaN         NaN         NaN   \n",
       "A103EXN5Q7HX6Z         NaN         NaN         NaN         1.0         NaN   \n",
       "A103VZ3KDF2RT5         NaN         NaN         NaN         NaN         NaN   \n",
       "A103ZG6ASSR7UT         NaN         NaN         NaN         NaN         NaN   \n",
       "A1041HQGJDKFG5         NaN         NaN         NaN         NaN         NaN   \n",
       "\n",
       "productId       B009B6XA1U  \n",
       "userId                      \n",
       "A100Y8WSLFJN7Q         NaN  \n",
       "A103EXN5Q7HX6Z         NaN  \n",
       "A103VZ3KDF2RT5         NaN  \n",
       "A103ZG6ASSR7UT         NaN  \n",
       "A1041HQGJDKFG5         NaN  \n",
       "\n",
       "[5 rows x 156 columns]"
      ]
     },
     "execution_count": 52,
     "metadata": {},
     "output_type": "execute_result"
    }
   ],
   "source": [
    "rp = df.pivot_table(columns=['productId'], index=['userId'],values='score')\n",
    "rp.head()"
   ]
  },
  {
   "cell_type": "code",
   "execution_count": 81,
   "metadata": {
    "collapsed": false
   },
   "outputs": [],
   "source": [
    "productId = list(rp.columns.values)"
   ]
  },
  {
   "cell_type": "code",
   "execution_count": 53,
   "metadata": {
    "collapsed": false,
    "scrolled": true
   },
   "outputs": [
    {
     "data": {
      "text/html": [
       "<div>\n",
       "<table border=\"1\" class=\"dataframe\">\n",
       "  <thead>\n",
       "    <tr style=\"text-align: right;\">\n",
       "      <th>productId</th>\n",
       "      <th>0790747324</th>\n",
       "      <th>0800103688</th>\n",
       "      <th>1562229567</th>\n",
       "      <th>1573470937</th>\n",
       "      <th>1888617047</th>\n",
       "      <th>6300147967</th>\n",
       "      <th>6300157423</th>\n",
       "      <th>6300213153</th>\n",
       "      <th>6300246299</th>\n",
       "      <th>6301173147</th>\n",
       "      <th>...</th>\n",
       "      <th>B007EMEOEA</th>\n",
       "      <th>B007NF02Q2</th>\n",
       "      <th>B0085KGGLY</th>\n",
       "      <th>B0088QNUUK</th>\n",
       "      <th>B008BSM1EG</th>\n",
       "      <th>B008FPU7AA</th>\n",
       "      <th>B0092MDYV4</th>\n",
       "      <th>B0095D5454</th>\n",
       "      <th>B0099VUXCQ</th>\n",
       "      <th>B009B6XA1U</th>\n",
       "    </tr>\n",
       "    <tr>\n",
       "      <th>userId</th>\n",
       "      <th></th>\n",
       "      <th></th>\n",
       "      <th></th>\n",
       "      <th></th>\n",
       "      <th></th>\n",
       "      <th></th>\n",
       "      <th></th>\n",
       "      <th></th>\n",
       "      <th></th>\n",
       "      <th></th>\n",
       "      <th></th>\n",
       "      <th></th>\n",
       "      <th></th>\n",
       "      <th></th>\n",
       "      <th></th>\n",
       "      <th></th>\n",
       "      <th></th>\n",
       "      <th></th>\n",
       "      <th></th>\n",
       "      <th></th>\n",
       "      <th></th>\n",
       "    </tr>\n",
       "  </thead>\n",
       "  <tbody>\n",
       "    <tr>\n",
       "      <th>A100Y8WSLFJN7Q</th>\n",
       "      <td>0.0</td>\n",
       "      <td>0.0</td>\n",
       "      <td>0.0</td>\n",
       "      <td>0.0</td>\n",
       "      <td>0.0</td>\n",
       "      <td>0.0</td>\n",
       "      <td>0.0</td>\n",
       "      <td>0.0</td>\n",
       "      <td>0.0</td>\n",
       "      <td>0.0</td>\n",
       "      <td>...</td>\n",
       "      <td>0.0</td>\n",
       "      <td>0.0</td>\n",
       "      <td>0.0</td>\n",
       "      <td>0.0</td>\n",
       "      <td>0.0</td>\n",
       "      <td>0.0</td>\n",
       "      <td>0.0</td>\n",
       "      <td>0.0</td>\n",
       "      <td>0.0</td>\n",
       "      <td>0.0</td>\n",
       "    </tr>\n",
       "    <tr>\n",
       "      <th>A103EXN5Q7HX6Z</th>\n",
       "      <td>0.0</td>\n",
       "      <td>0.0</td>\n",
       "      <td>0.0</td>\n",
       "      <td>0.0</td>\n",
       "      <td>0.0</td>\n",
       "      <td>0.0</td>\n",
       "      <td>0.0</td>\n",
       "      <td>0.0</td>\n",
       "      <td>0.0</td>\n",
       "      <td>0.0</td>\n",
       "      <td>...</td>\n",
       "      <td>0.0</td>\n",
       "      <td>0.0</td>\n",
       "      <td>0.0</td>\n",
       "      <td>0.0</td>\n",
       "      <td>0.0</td>\n",
       "      <td>0.0</td>\n",
       "      <td>0.0</td>\n",
       "      <td>1.0</td>\n",
       "      <td>0.0</td>\n",
       "      <td>0.0</td>\n",
       "    </tr>\n",
       "    <tr>\n",
       "      <th>A103VZ3KDF2RT5</th>\n",
       "      <td>0.0</td>\n",
       "      <td>0.0</td>\n",
       "      <td>0.0</td>\n",
       "      <td>0.0</td>\n",
       "      <td>0.0</td>\n",
       "      <td>0.0</td>\n",
       "      <td>0.0</td>\n",
       "      <td>0.0</td>\n",
       "      <td>0.0</td>\n",
       "      <td>0.0</td>\n",
       "      <td>...</td>\n",
       "      <td>0.0</td>\n",
       "      <td>0.0</td>\n",
       "      <td>0.0</td>\n",
       "      <td>0.0</td>\n",
       "      <td>0.0</td>\n",
       "      <td>0.0</td>\n",
       "      <td>0.0</td>\n",
       "      <td>0.0</td>\n",
       "      <td>0.0</td>\n",
       "      <td>0.0</td>\n",
       "    </tr>\n",
       "    <tr>\n",
       "      <th>A103ZG6ASSR7UT</th>\n",
       "      <td>0.0</td>\n",
       "      <td>0.0</td>\n",
       "      <td>0.0</td>\n",
       "      <td>0.0</td>\n",
       "      <td>0.0</td>\n",
       "      <td>0.0</td>\n",
       "      <td>0.0</td>\n",
       "      <td>0.0</td>\n",
       "      <td>0.0</td>\n",
       "      <td>0.0</td>\n",
       "      <td>...</td>\n",
       "      <td>0.0</td>\n",
       "      <td>0.0</td>\n",
       "      <td>0.0</td>\n",
       "      <td>0.0</td>\n",
       "      <td>0.0</td>\n",
       "      <td>0.0</td>\n",
       "      <td>0.0</td>\n",
       "      <td>0.0</td>\n",
       "      <td>0.0</td>\n",
       "      <td>0.0</td>\n",
       "    </tr>\n",
       "    <tr>\n",
       "      <th>A1041HQGJDKFG5</th>\n",
       "      <td>0.0</td>\n",
       "      <td>0.0</td>\n",
       "      <td>0.0</td>\n",
       "      <td>0.0</td>\n",
       "      <td>0.0</td>\n",
       "      <td>0.0</td>\n",
       "      <td>0.0</td>\n",
       "      <td>0.0</td>\n",
       "      <td>0.0</td>\n",
       "      <td>0.0</td>\n",
       "      <td>...</td>\n",
       "      <td>0.0</td>\n",
       "      <td>0.0</td>\n",
       "      <td>0.0</td>\n",
       "      <td>0.0</td>\n",
       "      <td>0.0</td>\n",
       "      <td>0.0</td>\n",
       "      <td>0.0</td>\n",
       "      <td>0.0</td>\n",
       "      <td>0.0</td>\n",
       "      <td>0.0</td>\n",
       "    </tr>\n",
       "  </tbody>\n",
       "</table>\n",
       "<p>5 rows × 156 columns</p>\n",
       "</div>"
      ],
      "text/plain": [
       "productId       0790747324  0800103688  1562229567  1573470937  1888617047  \\\n",
       "userId                                                                       \n",
       "A100Y8WSLFJN7Q         0.0         0.0         0.0         0.0         0.0   \n",
       "A103EXN5Q7HX6Z         0.0         0.0         0.0         0.0         0.0   \n",
       "A103VZ3KDF2RT5         0.0         0.0         0.0         0.0         0.0   \n",
       "A103ZG6ASSR7UT         0.0         0.0         0.0         0.0         0.0   \n",
       "A1041HQGJDKFG5         0.0         0.0         0.0         0.0         0.0   \n",
       "\n",
       "productId       6300147967  6300157423  6300213153  6300246299  6301173147  \\\n",
       "userId                                                                       \n",
       "A100Y8WSLFJN7Q         0.0         0.0         0.0         0.0         0.0   \n",
       "A103EXN5Q7HX6Z         0.0         0.0         0.0         0.0         0.0   \n",
       "A103VZ3KDF2RT5         0.0         0.0         0.0         0.0         0.0   \n",
       "A103ZG6ASSR7UT         0.0         0.0         0.0         0.0         0.0   \n",
       "A1041HQGJDKFG5         0.0         0.0         0.0         0.0         0.0   \n",
       "\n",
       "productId          ...      B007EMEOEA  B007NF02Q2  B0085KGGLY  B0088QNUUK  \\\n",
       "userId             ...                                                       \n",
       "A100Y8WSLFJN7Q     ...             0.0         0.0         0.0         0.0   \n",
       "A103EXN5Q7HX6Z     ...             0.0         0.0         0.0         0.0   \n",
       "A103VZ3KDF2RT5     ...             0.0         0.0         0.0         0.0   \n",
       "A103ZG6ASSR7UT     ...             0.0         0.0         0.0         0.0   \n",
       "A1041HQGJDKFG5     ...             0.0         0.0         0.0         0.0   \n",
       "\n",
       "productId       B008BSM1EG  B008FPU7AA  B0092MDYV4  B0095D5454  B0099VUXCQ  \\\n",
       "userId                                                                       \n",
       "A100Y8WSLFJN7Q         0.0         0.0         0.0         0.0         0.0   \n",
       "A103EXN5Q7HX6Z         0.0         0.0         0.0         1.0         0.0   \n",
       "A103VZ3KDF2RT5         0.0         0.0         0.0         0.0         0.0   \n",
       "A103ZG6ASSR7UT         0.0         0.0         0.0         0.0         0.0   \n",
       "A1041HQGJDKFG5         0.0         0.0         0.0         0.0         0.0   \n",
       "\n",
       "productId       B009B6XA1U  \n",
       "userId                      \n",
       "A100Y8WSLFJN7Q         0.0  \n",
       "A103EXN5Q7HX6Z         0.0  \n",
       "A103VZ3KDF2RT5         0.0  \n",
       "A103ZG6ASSR7UT         0.0  \n",
       "A1041HQGJDKFG5         0.0  \n",
       "\n",
       "[5 rows x 156 columns]"
      ]
     },
     "execution_count": 53,
     "metadata": {},
     "output_type": "execute_result"
    }
   ],
   "source": [
    "rp = rp.fillna(0); # Replace NaN\n",
    "rp.head()"
   ]
  },
  {
   "cell_type": "code",
   "execution_count": 54,
   "metadata": {
    "collapsed": true
   },
   "outputs": [],
   "source": [
    "Q = rp.values"
   ]
  },
  {
   "cell_type": "code",
   "execution_count": 55,
   "metadata": {
    "collapsed": false
   },
   "outputs": [
    {
     "data": {
      "text/plain": [
       "(5113, 156)"
      ]
     },
     "execution_count": 55,
     "metadata": {},
     "output_type": "execute_result"
    }
   ],
   "source": [
    "Q.shape"
   ]
  },
  {
   "cell_type": "code",
   "execution_count": 113,
   "metadata": {
    "collapsed": false
   },
   "outputs": [],
   "source": [
    "lambda_ = 0.1\n",
    "n_factors = 100\n",
    "m, n = Q.shape\n",
    "n_iterations = 101"
   ]
  },
  {
   "cell_type": "code",
   "execution_count": 134,
   "metadata": {
    "collapsed": true
   },
   "outputs": [],
   "source": [
    "X = 5 * np.random.rand(m, n_factors) \n",
    "Y = 5 * np.random.rand(n_factors, n)\n",
    "def get_error(Q, X, Y, W):\n",
    "    return np.sum((W * (Q - np.dot(X, Y)))**2)\n"
   ]
  },
  {
   "cell_type": "code",
   "execution_count": 135,
   "metadata": {
    "collapsed": false
   },
   "outputs": [
    {
     "data": {
      "text/plain": [
       "(100, 156)"
      ]
     },
     "execution_count": 135,
     "metadata": {},
     "output_type": "execute_result"
    }
   ],
   "source": [
    "Y.shape"
   ]
  },
  {
   "cell_type": "code",
   "execution_count": 136,
   "metadata": {
    "collapsed": false
   },
   "outputs": [],
   "source": [
    "for i,movie in enumerate(mov):\n",
    "    a = np.zeros(100)\n",
    "    a_word = movieses.get(movie)\n",
    "    for word in a_word:\n",
    "        if word in words:\n",
    "            a[words[word]] += 1\n",
    "    #if a.sum() != 0:\n",
    "    Y[:,productId.index(movie)] = a"
   ]
  },
  {
   "cell_type": "code",
   "execution_count": 137,
   "metadata": {
    "collapsed": true
   },
   "outputs": [],
   "source": [
    "W = Q>0.5\n",
    "W[W == True] = 1\n",
    "W[W == False] = 0\n",
    "# To be consistent with our Q matrix\n",
    "W = W.astype(np.float64, copy=False)"
   ]
  },
  {
   "cell_type": "code",
   "execution_count": 138,
   "metadata": {
    "collapsed": false
   },
   "outputs": [
    {
     "name": "stdout",
     "output_type": "stream",
     "text": [
      "0th iteration is completed 38149.3314151\n",
      "100th iteration is completed 883.95263481\n",
      "200th iteration is completed 882.552156189\n",
      "300th iteration is completed 882.289980104\n",
      "400th iteration is completed 882.20393845\n",
      "500th iteration is completed 882.16777758\n",
      "600th iteration is completed 882.15028473\n",
      "700th iteration is completed 882.141034548\n",
      "800th iteration is completed 882.135840538\n",
      "900th iteration is completed 882.132797203\n",
      "1000th iteration is completed 882.130956691\n",
      "time is  58.4737370014\n",
      "Error of rated movies: 882.130956691\n"
     ]
    }
   ],
   "source": [
    "errors = []\n",
    "import time\n",
    "start_time = time.time()\n",
    "for ii in xrange(n_iterations):\n",
    "    X = np.linalg.solve(np.dot(Y, Y.T) + lambda_ * np.eye(n_factors), \n",
    "                        np.dot(Y, Q.T)).T\n",
    "    Y = np.linalg.solve(np.dot(X.T, X) + lambda_ * np.eye(n_factors),\n",
    "                        np.dot(X.T, Q))\n",
    "    errors.append(get_error(Q, X, Y, W))\n",
    "    if ii % 100 == 0:\n",
    "        print('{}th iteration is completed'.format(ii)), errors[len(errors)-1]\n",
    "Q_hat = np.dot(X, Y)\n",
    "print 'time is ', time.time() -  start_time\n",
    "print('Error of rated movies: {}'.format(get_error(Q, X, Y, W)))"
   ]
  },
  {
   "cell_type": "code",
   "execution_count": 139,
   "metadata": {
    "collapsed": true
   },
   "outputs": [],
   "source": [
    "X = 5 * np.random.rand(m, n_factors) \n",
    "Y = 5 * np.random.rand(n_factors, n)\n",
    "def get_error(Q, X, Y, W):\n",
    "    return np.sum((W * (Q - np.dot(X, Y)))**2)\n"
   ]
  },
  {
   "cell_type": "code",
   "execution_count": 140,
   "metadata": {
    "collapsed": false
   },
   "outputs": [
    {
     "name": "stdout",
     "output_type": "stream",
     "text": [
      "0th iteration is completed 2119.92035832\n",
      "100th iteration is completed 882.838888757\n",
      "200th iteration is completed 882.308752096\n",
      "300th iteration is completed 882.198392203\n",
      "400th iteration is completed 882.160850441\n",
      "500th iteration is completed 882.144929636\n",
      "600th iteration is completed 882.137249123\n",
      "700th iteration is completed 882.133226316\n",
      "800th iteration is completed 882.13100009\n",
      "900th iteration is completed 882.129719565\n",
      "1000th iteration is completed 882.128961694\n",
      "time is  62.7628910542\n",
      "Error of rated movies: 882.128961694\n"
     ]
    }
   ],
   "source": [
    "errors = []\n",
    "import time\n",
    "start_time = time.time()\n",
    "for ii in xrange(n_iterations):\n",
    "    X = np.linalg.solve(np.dot(Y, Y.T) + lambda_ * np.eye(n_factors), \n",
    "                        np.dot(Y, Q.T)).T\n",
    "    Y = np.linalg.solve(np.dot(X.T, X) + lambda_ * np.eye(n_factors),\n",
    "                        np.dot(X.T, Q))\n",
    "    errors.append(get_error(Q, X, Y, W))\n",
    "    if ii % 100 == 0:\n",
    "        print('{}th iteration is completed'.format(ii)), errors[len(errors)-1]\n",
    "Q_hat = np.dot(X, Y)\n",
    "print 'time is ', time.time() -  start_time\n",
    "print('Error of rated movies: {}'.format(get_error(Q, X, Y, W)))"
   ]
  },
  {
   "cell_type": "code",
   "execution_count": null,
   "metadata": {
    "collapsed": true
   },
   "outputs": [],
   "source": []
  },
  {
   "cell_type": "code",
   "execution_count": null,
   "metadata": {
    "collapsed": true
   },
   "outputs": [],
   "source": []
  }
 ],
 "metadata": {
  "kernelspec": {
   "display_name": "Python 2",
   "language": "python",
   "name": "python2"
  },
  "language_info": {
   "codemirror_mode": {
    "name": "ipython",
    "version": 2
   },
   "file_extension": ".py",
   "mimetype": "text/x-python",
   "name": "python",
   "nbconvert_exporter": "python",
   "pygments_lexer": "ipython2",
   "version": "2.7.11"
  }
 },
 "nbformat": 4,
 "nbformat_minor": 0
}

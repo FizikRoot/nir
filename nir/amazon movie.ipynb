{
 "cells": [
  {
   "cell_type": "code",
   "execution_count": 17,
   "metadata": {
    "collapsed": false
   },
   "outputs": [
    {
     "name": "stdout",
     "output_type": "stream",
     "text": [
      "[{'helpfulness': '7/7',\n",
      "  'productId': 'B003AI2VGA',\n",
      "  'profileName': 'Brian E. Erland \"Rainbow Sphinx\"',\n",
      "  'score': '3.0',\n",
      "  'summary': '\"There Is So Much Darkness Now ~ Come For The Miracle\"',\n",
      "  'text': 'Synopsis: On the daily trek from Juarez, Mexico to El Paso, Texas an ever increasing number of female workers are found raped and murdered in the surrounding desert. Investigative reporter Karina Danes (Minnie Driver) arrives from Los Angeles to pursue the story and angers both the local police and the factory owners who employee the undocumented aliens with her pointed questions and relentless quest for the truth.<br /><br />Her story goes nationwide when a young girl named Mariela (Ana Claudia Talancon) survives a vicious attack and walks out of the desert crediting the Blessed Virgin for her rescue. Her story is further enhanced when the \"Wounds of Christ\" (stigmata) appear in her palms. She also claims to have received a message of hope for the Virgin Mary and soon a fanatical movement forms around her to fight against the evil that holds such a stranglehold on the area.<br /><br />Critique: Possessing a lifelong fascination with such esoteric matters as Catholic mysticism, miracles and the mysterious appearance of the stigmata, I was immediately attracted to the \\'05 DVD release `Virgin of Juarez\\'. The film offers a rather unique storyline blending current socio-political concerns, the constant flow of Mexican migrant workers back and forth across the U.S./Mexican border and the traditional Catholic beliefs of the Hispanic population. I must say I was quite surprised by the unexpected route taken by the plot and the means and methods by which the heavenly message unfolds.<br /><br />`Virgin of Juarez\\' is not a film that you would care to watch over and over again, but it was interesting enough to merit at least one viewing. Minnie Driver delivers a solid performance and Ana Claudia Talancon is perfect as the fragile and innocent visionary Mariela. Also starring Esai Morales and Angus Macfadyen (Braveheart).',\n",
      "  'time': '1182729600',\n",
      "  'userId': 'A141HP4LYPWMSR'},\n",
      " {'helpfulness': '4/4',\n",
      "  'productId': 'B003AI2VGA',\n",
      "  'profileName': 'Grady Harp',\n",
      "  'score': '3.0',\n",
      "  'summary': 'Worthwhile and Important Story Hampered by Poor Script and Production',\n",
      "  'text': \"THE VIRGIN OF JUAREZ is based on true events surrounding the crime problems of Juarez, Mexico reflected in the gringo exploitation of businesses in neighboring El Paso, Texas.  The story contains many important facts that desperately need to be brought into the light, but the impact of the film falters because of the choices made by the writer and director.<br /><br />Karina Danes (Minnie Driver) is a journalist for a Los Angeles newspaper who has flown to Juarez to investigate the multiple (in the hundreds) killings of young women. The targets for these murders seem to be young women working in the US sponsored sweatshops in Juarez who are picked up at night after work, raped, beaten and killed.  Danes is convinced the Juarez police force is doing nothing and takes on the mission of exposing the tragedies, in part due to her own past issues of being too idle with similar crimes in the US.  She meets Father Herrera (Esai Morales) and a community activist Patrick (Angus MacFadyen) and together they probe the police files and follow the most recent murder, discovering along the way a survivor named Mariela (Ana Claudia Talanc&oacute;n), a frightened young girl whose memory of her rape and beating is erased by her apparent vision of the Virgin Mary.  A father of one of the victims, Isidro (Jorge Cervera, Jr.) nurtures Mariela and helps her to escape the hospital, placing her in a 'church' where she becomes a 'saint' to the people of Juarez who long for the crimes to end.  Mariela appears to the public with the stigmata of bleeding hands and offers hope to the victims' families.  Danes works hard to discover evidence that will expose the perpetrators, taking a sheet of photos of 'most wanted men' from the police office of Detective Lauro (Jacob Vargas), and works with the police and Father Herrera to resolve the tragic chain of events that continue in Juarez. Fearing for Mariela's life, they transport her to Los Angeles where mysterious events end the story.<br /><br />The squeaky, mawkish script was written by Michael Fallon and directed by Kevin James Dobson.  Had their vision been more directed toward defining the line between realism and fanaticism, the story would possibly have been better related.  There are some good performances by Driver, Talanc&oacute;n, Morales, and Vargas but the minor roles vary in quality.  Reporting atrocities such as the one this film addresses is a valid and valuable contribution of contemporary cinema.  It is sad when script and the production dull the impact.  Grady Harp, June 07\",\n",
      "  'time': '1181952000',\n",
      "  'userId': 'A328S9RN3U5M68'},\n",
      " {'helpfulness': '8/10',\n",
      "  'productId': 'B003AI2VGA',\n",
      "  'profileName': 'Chrissy K. McVay \"Writer\"',\n",
      "  'score': '5.0',\n",
      "  'summary': 'This movie needed to be made.',\n",
      "  'text': \"The scenes in this film can be very disquieting due to their graphic re-enactment of real events, but this story needs to be told. I will say the violence was injected into the movie with as much taste as manageable when dealing with rape scenes, etc. Inspired by true events, women are being murdered in Juarez after they leave the factory where they work. A fearful community is suddenly given some hope when one of the young victims not only lives, but experiences 'stigmata' after seeing the Virgin Mary.  I was shocked to learn that murders in Juarez are still happening and many are unsolved. I believe this director brought a very important story to the surface. Though it's never pleasant to think about young women being murdered, this movie depicts a harsh reality of the high cost of exploited-cheap labor.<br /><br />Chrissy K. McVay - Author\",\n",
      "  'time': '1164844800',\n",
      "  'userId': 'A1I7QGUDP043DG'}]\n"
     ]
    }
   ],
   "source": [
    "import pprint\n",
    "\n",
    "list_of_dicts = []\n",
    "dict_of_data = {}\n",
    "# Opens a handle to the file, but does not read anything yet.\n",
    "fh = open('movies.small.txt')\n",
    "\n",
    "# This is more memory efficient.\n",
    "# Reads one line at a time.\n",
    "for line in fh.readlines():\n",
    "    # Strip off leading and trailing white-space.\n",
    "    line = line.strip()\n",
    "    if line != '':\n",
    "        # Assume it's safe to split:\n",
    "        label, data = line.split(': ', 1)\n",
    "        shortkey = label.split('/')[1]\n",
    "        dict_of_data[shortkey] = data\n",
    "    else:\n",
    "        # We're at the end of a record. Everything we want is in the\n",
    "        # dictionary.\n",
    "        list_of_dicts.append(dict_of_data)\n",
    "        dict_of_data = {}\n",
    "\n",
    "# Look at the first three items.\n",
    "pprint.pprint((list_of_dicts[0:3]))"
   ]
  },
  {
   "cell_type": "code",
   "execution_count": 18,
   "metadata": {
    "collapsed": false
   },
   "outputs": [],
   "source": [
    "###### Modify in place.\n",
    "import datetime\n",
    "for review in list_of_dicts:\n",
    "    # Convert to float\n",
    "    review['score'] = float(review['score'])\n",
    "    # Convert to readable time\n",
    "    int_timestamp = int(review['time'])\n",
    "    datetime_obj = datetime.datetime.fromtimestamp(int_timestamp)\n",
    "    str_iso_datetime = datetime_obj.isoformat()\n",
    "    review['time'] = str_iso_datetime\n",
    "\n",
    "# Modify in place some more!!\n",
    "# Convert helpfulness to a float.\n",
    "for review in list_of_dicts:\n",
    "    helpful_str, numberof_str = review['helpfulness'].split('/')\n",
    "    helpful_int = int(helpful_str)\n",
    "    numberof_int = int(numberof_str)\n",
    "    if numberof_int == 0: # Why is this needed?\n",
    "        numberof_int = 1.0\n",
    "    review['helpfulness'] = float(helpful_int)/numberof_int\n",
    "    review['helpful'] = helpful_int\n",
    "    review['total'] = numberof_int"
   ]
  },
  {
   "cell_type": "code",
   "execution_count": 21,
   "metadata": {
    "collapsed": false
   },
   "outputs": [
    {
     "name": "stdout",
     "output_type": "stream",
     "text": [
      "{'helpful': 1,\n",
      " 'helpfulness': 0.5,\n",
      " 'productId': '0790747324',\n",
      " 'profileName': 'Third Grade Teacher',\n",
      " 'score': 5.0,\n",
      " 'summary': 'Travel in Time with HG Wells',\n",
      " 'text': \"Several 3rd grade classes in my school viewed this movie (rated G)after reading a version of the book.  We'd read it chapter by chapter and reviewed with EOG-style questions.  Wow-talk about a page-turner!  The children could not wait to read the next chapter just as soon as we finished the last.  Watching the movie was a fun way to see the images we'd created in our minds come to life.  This was the original version (I think the best) and because it is rated G, I felt very comfortable showing it to my students.\",\n",
      " 'time': '2009-05-25T03:00:00',\n",
      " 'total': 2,\n",
      " 'userId': 'A2QP12447GKEDU'}\n"
     ]
    }
   ],
   "source": [
    "pprint.pprint((list_of_dicts[501]))"
   ]
  },
  {
   "cell_type": "code",
   "execution_count": null,
   "metadata": {
    "collapsed": true
   },
   "outputs": [],
   "source": []
  }
 ],
 "metadata": {
  "kernelspec": {
   "display_name": "Python 2",
   "language": "python",
   "name": "python2"
  },
  "language_info": {
   "codemirror_mode": {
    "name": "ipython",
    "version": 2
   },
   "file_extension": ".py",
   "mimetype": "text/x-python",
   "name": "python",
   "nbconvert_exporter": "python",
   "pygments_lexer": "ipython2",
   "version": "2.7.11"
  }
 },
 "nbformat": 4,
 "nbformat_minor": 0
}
